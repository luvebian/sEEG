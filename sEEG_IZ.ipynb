{
 "cells": [
  {
   "cell_type": "code",
   "execution_count": 1,
   "id": "90f46c2e-c8f8-421e-a007-25346b3da217",
   "metadata": {},
   "outputs": [],
   "source": [
    "import numpy as np\n",
    "import pandas as pd\n",
    "import scipy.io as sio\n",
    "import mne\n",
    "from mne.datasets import fetch_fsaverage"
   ]
  },
  {
   "cell_type": "code",
   "execution_count": 2,
   "id": "d009c371-1b47-4d3d-9d0f-c75a65772c5f",
   "metadata": {},
   "outputs": [],
   "source": [
    "cases = {1: ('A0R0', 'p200309', ['8B2-3', '8B3-4', '8B4-5', '8B7-8', '9C4-5']), #fixed!\n",
    "        2: ('M0S0', 'p200723', ['6HC6-7', '6HC7-8', '6HC8-9', '8NA4-5', '11HC2-3']), #fixed!\n",
    "        3: ('M0R0', 'p201209', ['1TP2-3', '2NA5-6', '3HT7-8']), #fixed!\n",
    "        4: ('M0K0', 'p210831', ['1TP2-3', '2HC3-4', '3HT2-3', '3HT3-4', '3HT4-5']), #fixed!\n",
    "        5: ('Z0M0', 'p220602', []), #fixed!\n",
    "        6: ('E0G0', 'p200924', ['1AA1-2', '1AA2-3', '1AA3-4', '4DD1-2', '7GG2-3', '7GG3-4', '11KK6-7', '15OO5-6'])} #fixed!"
   ]
  },
  {
   "cell_type": "code",
   "execution_count": 3,
   "id": "395bea37-fa2a-4b55-9fd6-a84ec83e6505",
   "metadata": {},
   "outputs": [],
   "source": [
    "CASE = cases[1][1]\n",
    "MEG_CASE = cases[1][0]\n",
    "seeg_mask = cases[1][2]\n",
    "VOL_SOURCES = 8194\n",
    "\n",
    "localization_file = fr'Z:\\Diane_Vrubel\\Data\\sEEG\\iEEG_localization.xlsx'\n",
    "mat_file = fr'Z:\\Diane_Vrubel\\Data\\sEEG\\erf\\erf_{MEG_CASE}.mat'\n",
    "\n",
    "src_meg = fr'Z:\\Diane_Vrubel\\Data\\MEG\\{MEG_CASE}\\forward_model\\src.pckl'\n",
    "trans_meg = mne.read_trans(fr'Z:\\Diane_Vrubel\\Data\\MEG\\{MEG_CASE}\\forward_model\\checked_visually_trans.fif')\n",
    "iz_meg_file = fr'Z:\\Diane_Vrubel\\Data\\MEG_predictions\\{MEG_CASE}_pred_nobin_8.out'\n",
    "subjects_dir_meg = fr'Z:\\Diane_Vrubel\\Data\\FreeSurfer'"
   ]
  },
  {
   "cell_type": "markdown",
   "id": "3d63b7d4-bee7-4182-af4c-6701436b70c9",
   "metadata": {},
   "source": [
    "## sEEG"
   ]
  },
  {
   "cell_type": "code",
   "execution_count": 4,
   "id": "2ec22a49-26bd-4985-97fe-d90f208af8f4",
   "metadata": {},
   "outputs": [
    {
     "name": "stdout",
     "output_type": "stream",
     "text": [
      "0 files missing from root.txt in C:\\Users\\CCDM\\mne_data\\MNE-sample-data\\subjects\n",
      "0 files missing from bem.txt in C:\\Users\\CCDM\\mne_data\\MNE-sample-data\\subjects\\fsaverage\n"
     ]
    },
    {
     "data": {
      "text/plain": [
       "MNEWindowsPath('C:/Users/CCDM/mne_data/MNE-sample-data/subjects/fsaverage')"
      ]
     },
     "execution_count": 4,
     "metadata": {},
     "output_type": "execute_result"
    }
   ],
   "source": [
    "# paths to mne datasets - sample sEEG and FreeSurfer's fsaverage subject\n",
    "# which is in MNI space\n",
    "misc_path = mne.datasets.misc.data_path()\n",
    "sample_path = mne.datasets.sample.data_path()\n",
    "subjects_dir = sample_path / \"subjects\"\n",
    "\n",
    "# use mne-python's fsaverage data\n",
    "fetch_fsaverage(subjects_dir=subjects_dir, verbose=True)  # downloads if needed"
   ]
  },
  {
   "cell_type": "code",
   "execution_count": 5,
   "id": "c49cd23c-251f-42ea-bc54-c101d3f55754",
   "metadata": {},
   "outputs": [],
   "source": [
    "erf_data = sio.loadmat(mat_file)"
   ]
  },
  {
   "cell_type": "code",
   "execution_count": 6,
   "id": "52d3e93b-7c3f-47c5-b75f-01672610e4c7",
   "metadata": {
    "scrolled": true
   },
   "outputs": [
    {
     "data": {
      "text/plain": [
       "{'__header__': b'MATLAB 5.0 MAT-file, Platform: PCWIN64, Created on: Thu Dec  8 14:09:59 2022',\n",
       " '__version__': '1.0',\n",
       " '__globals__': [],\n",
       " 'erf_all': array([[(array([[-1.14796459e+02, -1.03549583e+02, -1.02416468e+02, ...,\n",
       "                  9.19591814e+01,  8.78581271e+01,  8.97267365e+01],\n",
       "                [ 2.67577766e+01,  1.68086382e+01,  2.22954055e+01, ...,\n",
       "                  8.33315087e+01,  8.49802911e+01,  7.71036798e+01],\n",
       "                [-1.09830655e+01, -1.28075488e+01, -1.89552371e+01, ...,\n",
       "                 -1.66054715e+01, -1.71154637e+01, -1.63267612e+01],\n",
       "                ...,\n",
       "                [-5.87345688e+00, -5.76923305e+00, -6.92990110e+00, ...,\n",
       "                  9.72809567e+00,  4.50037927e+00,  7.27855361e+00],\n",
       "                [ 1.17951393e+01,  1.77460899e+00, -6.87884040e+00, ...,\n",
       "                 -9.80773244e-02,  5.94994773e+00,  8.63074088e-01],\n",
       "                [-6.35320682e+01, -5.73537613e+01, -4.98253150e+01, ...,\n",
       "                  4.02983573e+01,  3.56356273e+01,  3.60600708e+01]]), array([[array(['1TP1-2'], dtype='<U6'), array(['1TP2-3'], dtype='<U6'),\n",
       "                 array(['1TP3-4'], dtype='<U6'), array(['1TP4-5'], dtype='<U6'),\n",
       "                 array(['1TP5-6'], dtype='<U6'), array(['1TP6-7'], dtype='<U6'),\n",
       "                 array(['1TP7-8'], dtype='<U6'), array(['2B1-2'], dtype='<U5'),\n",
       "                 array(['2B2-3'], dtype='<U5'), array(['2B3-4'], dtype='<U5'),\n",
       "                 array(['2B4-5'], dtype='<U5'), array(['2B5-6'], dtype='<U5'),\n",
       "                 array(['2B6-7'], dtype='<U5'), array(['2B7-8'], dtype='<U5'),\n",
       "                 array(['2B8-9'], dtype='<U5'), array(['2B9-10'], dtype='<U6'),\n",
       "                 array(['3C1-2'], dtype='<U5'), array(['3C2-3'], dtype='<U5'),\n",
       "                 array(['3C3-4'], dtype='<U5'), array(['3C4-5'], dtype='<U5'),\n",
       "                 array(['3C5-6'], dtype='<U5'), array(['3C6-7'], dtype='<U5'),\n",
       "                 array(['3C7-8'], dtype='<U5'), array(['3C8-9'], dtype='<U5'),\n",
       "                 array(['3C9-10'], dtype='<U6'), array(['4GC1-2'], dtype='<U6'),\n",
       "                 array(['4GC2-3'], dtype='<U6'), array(['4GC3-4'], dtype='<U6'),\n",
       "                 array(['4GC4-5'], dtype='<U6'), array(['4GC5-6'], dtype='<U6'),\n",
       "                 array(['4GC6-7'], dtype='<U6'), array(['4GC7-8'], dtype='<U6'),\n",
       "                 array(['4GC8-9'], dtype='<U6'), array(['4GC9-10'], dtype='<U7'),\n",
       "                 array(['5CC1-2'], dtype='<U6'), array(['5CC2-3'], dtype='<U6'),\n",
       "                 array(['5CC3-4'], dtype='<U6'), array(['5CC4-5'], dtype='<U6'),\n",
       "                 array(['5CC5-6'], dtype='<U6'), array(['5CC6-7'], dtype='<U6'),\n",
       "                 array(['5CC7-8'], dtype='<U6'), array(['5CC8-9'], dtype='<U6'),\n",
       "                 array(['5CC9-10'], dtype='<U7'), array(['6CR1-2'], dtype='<U6'),\n",
       "                 array(['6CR2-3'], dtype='<U6'), array(['6CR3-4'], dtype='<U6'),\n",
       "                 array(['6CR4-5'], dtype='<U6'), array(['6CR5-6'], dtype='<U6'),\n",
       "                 array(['6CR6-7'], dtype='<U6'), array(['6CR7-8'], dtype='<U6'),\n",
       "                 array(['7TP1-2'], dtype='<U6'), array(['7TP2-3'], dtype='<U6'),\n",
       "                 array(['7TP3-4'], dtype='<U6'), array(['7TP4-5'], dtype='<U6'),\n",
       "                 array(['7TP5-6'], dtype='<U6'), array(['7TP6-7'], dtype='<U6'),\n",
       "                 array(['7TP7-8'], dtype='<U6'), array(['7TP8-9'], dtype='<U6'),\n",
       "                 array(['7TP9-10'], dtype='<U7'), array(['8B2-3'], dtype='<U5'),\n",
       "                 array(['8B3-4'], dtype='<U5'), array(['8B4-5'], dtype='<U5'),\n",
       "                 array(['8B5-6'], dtype='<U5'), array(['8B6-7'], dtype='<U5'),\n",
       "                 array(['8B7-8'], dtype='<U5'), array(['8B8-9'], dtype='<U5'),\n",
       "                 array(['8B9-10'], dtype='<U6'), array(['9C1-2'], dtype='<U5'),\n",
       "                 array(['9C2-3'], dtype='<U5'), array(['9C3-4'], dtype='<U5'),\n",
       "                 array(['9C4-5'], dtype='<U5'), array(['9C5-6'], dtype='<U5'),\n",
       "                 array(['9C6-7'], dtype='<U5'), array(['9C7-8'], dtype='<U5'),\n",
       "                 array(['9C8-9'], dtype='<U5'), array(['9C9-10'], dtype='<U6'),\n",
       "                 array(['10GC2-3'], dtype='<U7'), array(['10GC3-4'], dtype='<U7'),\n",
       "                 array(['10GC4-5'], dtype='<U7'), array(['10GC5-6'], dtype='<U7'),\n",
       "                 array(['10GC6-7'], dtype='<U7'), array(['10GC7-8'], dtype='<U7'),\n",
       "                 array(['10GC8-9'], dtype='<U7'), array(['12CR2-3'], dtype='<U7'),\n",
       "                 array(['12CR3-4'], dtype='<U7'), array(['12CR4-5'], dtype='<U7'),\n",
       "                 array(['12CR5-6'], dtype='<U7'), array(['12CR6-7'], dtype='<U7'),\n",
       "                 array(['12CR7-8'], dtype='<U7')]], dtype=object), array([[3.616e+01, 2.754e+01, 8.680e+00, 2.640e+00, 1.240e+00, 4.400e-01,\n",
       "                 6.400e-01, 1.892e+01, 2.060e+01, 8.840e+00, 3.200e-01, 4.600e-01,\n",
       "                 3.000e-01, 2.600e-01, 4.400e-01, 6.000e-02, 8.080e+00, 1.644e+01,\n",
       "                 4.620e+00, 1.364e+01, 3.400e-01, 0.000e+00, 8.000e-02, 4.000e-02,\n",
       "                 2.000e-02, 7.200e-01, 2.780e+00, 3.000e-01, 2.000e-02, 0.000e+00,\n",
       "                 0.000e+00, 8.000e-02, 2.000e-02, 2.000e-01, 5.400e-01, 1.400e-01,\n",
       "                 4.000e-02, 4.000e-02, 0.000e+00, 2.000e-02, 1.400e-01, 4.000e-02,\n",
       "                 6.000e-02, 1.840e+00, 5.320e+00, 8.700e+00, 1.860e+00, 4.000e-02,\n",
       "                 1.000e-01, 4.000e-02, 3.080e+01, 4.010e+01, 2.458e+01, 2.396e+01,\n",
       "                 1.288e+01, 1.510e+01, 4.320e+00, 1.038e+01, 4.900e+00, 1.216e+01,\n",
       "                 1.588e+01, 2.160e+01, 3.106e+01, 1.920e+01, 2.400e+00, 2.800e-01,\n",
       "                 2.200e-01, 4.280e+00, 1.140e+01, 1.348e+01, 3.880e+00, 3.800e+00,\n",
       "                 4.000e-01, 2.000e-02, 1.600e-01, 1.400e-01, 1.580e+00, 2.540e+00,\n",
       "                 1.200e-01, 2.000e-02, 0.000e+00, 0.000e+00, 2.000e-02, 6.300e+00,\n",
       "                 4.740e+00, 2.360e+00, 1.800e-01, 1.000e-01, 0.000e+00]]), array([[0.00000000e+00, 4.88282045e-04, 9.76564089e-04, ...,\n",
       "                 2.99999512e+02, 3.00000000e+02, 3.00000488e+02]]), array([[1.62, 2.04, 0.  , 0.  , 0.  , 0.54, 0.6 , 2.02, 3.82, 0.12, 0.04,\n",
       "                 0.02, 0.  , 0.  , 0.32, 0.34, 0.  , 0.4 , 0.78, 0.16, 0.04, 0.66,\n",
       "                 0.06, 0.  , 0.  , 0.04, 0.34, 0.12, 0.  , 0.3 , 0.4 , 0.  , 0.72,\n",
       "                 0.02, 0.08, 0.02, 0.  , 0.  , 1.28, 1.1 , 0.02, 0.  , 0.64, 0.06,\n",
       "                 0.02, 0.02, 0.5 , 0.1 , 0.04, 0.04, 0.  , 0.  , 0.38, 0.44, 0.2 ,\n",
       "                 0.04, 0.56, 0.  , 0.  , 1.62, 2.22, 0.  , 0.16, 0.1 , 0.52, 1.28,\n",
       "                 0.42, 2.1 , 2.6 , 0.86, 0.02, 0.  , 0.02, 0.  , 0.52, 1.38, 0.62,\n",
       "                 0.04, 0.  , 0.  , 0.  , 0.  , 0.  , 0.3 , 0.  , 0.  , 0.  , 0.14,\n",
       "                 0.14]]))                                                                                                                     ]],\n",
       "       dtype=[('erf', 'O'), ('name', 'O'), ('spike_rate', 'O'), ('time_vector', 'O'), ('hfo_rate', 'O')])}"
      ]
     },
     "execution_count": 6,
     "metadata": {},
     "output_type": "execute_result"
    }
   ],
   "source": [
    "erf_data"
   ]
  },
  {
   "cell_type": "code",
   "execution_count": 7,
   "id": "752ca1f1-b83e-4318-b92a-8aa7853f3616",
   "metadata": {},
   "outputs": [],
   "source": [
    "spike_rate = erf_data['erf_all'][0][0][2][0]  # Spike rate \n",
    "#hfo_rate = erf_data['erf_all'][0][0][4][0]  # HFO rate \n",
    "electrodes = erf_data['erf_all'][0][0][1][0]  # names\n",
    "\n",
    "localization_df = pd.read_excel(localization_file, sheet_name=CASE) \n",
    "localization_df.columns = ['Electrode', 'X', 'Y', 'Z', 'X_2', 'Y_2', 'Z_2', 'Region'] \n",
    "region_data = localization_df[['Electrode', 'Region']].set_index('Electrode')['Region'].to_dict()"
   ]
  },
  {
   "cell_type": "code",
   "execution_count": 8,
   "id": "aa73bc5b-90ad-4237-8507-419b9508464a",
   "metadata": {
    "scrolled": true
   },
   "outputs": [
    {
     "data": {
      "text/plain": [
       "array([array(['1TP1-2'], dtype='<U6'), array(['1TP2-3'], dtype='<U6'),\n",
       "       array(['1TP3-4'], dtype='<U6'), array(['1TP4-5'], dtype='<U6'),\n",
       "       array(['1TP5-6'], dtype='<U6'), array(['1TP6-7'], dtype='<U6'),\n",
       "       array(['1TP7-8'], dtype='<U6'), array(['2B1-2'], dtype='<U5'),\n",
       "       array(['2B2-3'], dtype='<U5'), array(['2B3-4'], dtype='<U5'),\n",
       "       array(['2B4-5'], dtype='<U5'), array(['2B5-6'], dtype='<U5'),\n",
       "       array(['2B6-7'], dtype='<U5'), array(['2B7-8'], dtype='<U5'),\n",
       "       array(['2B8-9'], dtype='<U5'), array(['2B9-10'], dtype='<U6'),\n",
       "       array(['3C1-2'], dtype='<U5'), array(['3C2-3'], dtype='<U5'),\n",
       "       array(['3C3-4'], dtype='<U5'), array(['3C4-5'], dtype='<U5'),\n",
       "       array(['3C5-6'], dtype='<U5'), array(['3C6-7'], dtype='<U5'),\n",
       "       array(['3C7-8'], dtype='<U5'), array(['3C8-9'], dtype='<U5'),\n",
       "       array(['3C9-10'], dtype='<U6'), array(['4GC1-2'], dtype='<U6'),\n",
       "       array(['4GC2-3'], dtype='<U6'), array(['4GC3-4'], dtype='<U6'),\n",
       "       array(['4GC4-5'], dtype='<U6'), array(['4GC5-6'], dtype='<U6'),\n",
       "       array(['4GC6-7'], dtype='<U6'), array(['4GC7-8'], dtype='<U6'),\n",
       "       array(['4GC8-9'], dtype='<U6'), array(['4GC9-10'], dtype='<U7'),\n",
       "       array(['5CC1-2'], dtype='<U6'), array(['5CC2-3'], dtype='<U6'),\n",
       "       array(['5CC3-4'], dtype='<U6'), array(['5CC4-5'], dtype='<U6'),\n",
       "       array(['5CC5-6'], dtype='<U6'), array(['5CC6-7'], dtype='<U6'),\n",
       "       array(['5CC7-8'], dtype='<U6'), array(['5CC8-9'], dtype='<U6'),\n",
       "       array(['5CC9-10'], dtype='<U7'), array(['6CR1-2'], dtype='<U6'),\n",
       "       array(['6CR2-3'], dtype='<U6'), array(['6CR3-4'], dtype='<U6'),\n",
       "       array(['6CR4-5'], dtype='<U6'), array(['6CR5-6'], dtype='<U6'),\n",
       "       array(['6CR6-7'], dtype='<U6'), array(['6CR7-8'], dtype='<U6'),\n",
       "       array(['7TP1-2'], dtype='<U6'), array(['7TP2-3'], dtype='<U6'),\n",
       "       array(['7TP3-4'], dtype='<U6'), array(['7TP4-5'], dtype='<U6'),\n",
       "       array(['7TP5-6'], dtype='<U6'), array(['7TP6-7'], dtype='<U6'),\n",
       "       array(['7TP7-8'], dtype='<U6'), array(['7TP8-9'], dtype='<U6'),\n",
       "       array(['7TP9-10'], dtype='<U7'), array(['8B2-3'], dtype='<U5'),\n",
       "       array(['8B3-4'], dtype='<U5'), array(['8B4-5'], dtype='<U5'),\n",
       "       array(['8B5-6'], dtype='<U5'), array(['8B6-7'], dtype='<U5'),\n",
       "       array(['8B7-8'], dtype='<U5'), array(['8B8-9'], dtype='<U5'),\n",
       "       array(['8B9-10'], dtype='<U6'), array(['9C1-2'], dtype='<U5'),\n",
       "       array(['9C2-3'], dtype='<U5'), array(['9C3-4'], dtype='<U5'),\n",
       "       array(['9C4-5'], dtype='<U5'), array(['9C5-6'], dtype='<U5'),\n",
       "       array(['9C6-7'], dtype='<U5'), array(['9C7-8'], dtype='<U5'),\n",
       "       array(['9C8-9'], dtype='<U5'), array(['9C9-10'], dtype='<U6'),\n",
       "       array(['10GC2-3'], dtype='<U7'), array(['10GC3-4'], dtype='<U7'),\n",
       "       array(['10GC4-5'], dtype='<U7'), array(['10GC5-6'], dtype='<U7'),\n",
       "       array(['10GC6-7'], dtype='<U7'), array(['10GC7-8'], dtype='<U7'),\n",
       "       array(['10GC8-9'], dtype='<U7'), array(['12CR2-3'], dtype='<U7'),\n",
       "       array(['12CR3-4'], dtype='<U7'), array(['12CR4-5'], dtype='<U7'),\n",
       "       array(['12CR5-6'], dtype='<U7'), array(['12CR6-7'], dtype='<U7'),\n",
       "       array(['12CR7-8'], dtype='<U7')], dtype=object)"
      ]
     },
     "execution_count": 8,
     "metadata": {},
     "output_type": "execute_result"
    }
   ],
   "source": [
    "electrodes"
   ]
  },
  {
   "cell_type": "code",
   "execution_count": 9,
   "id": "5a36c03d-2c3d-4827-88ce-4aa2232aff5b",
   "metadata": {},
   "outputs": [
    {
     "data": {
      "text/plain": [
       "'1TP3-4'"
      ]
     },
     "execution_count": 9,
     "metadata": {},
     "output_type": "execute_result"
    }
   ],
   "source": [
    "electrodes[2][0]"
   ]
  },
  {
   "cell_type": "code",
   "execution_count": 10,
   "id": "8f3f5869-bcf9-4c43-813d-a97a254699dd",
   "metadata": {},
   "outputs": [],
   "source": [
    "# saving coordinates to a dictionary\n",
    "electrode_coords = {}\n",
    "for index, row in localization_df.iterrows():\n",
    "    electrode_coords[row['Electrode']] = (row['X_2'], row['Y_2'], row['Z_2'])"
   ]
  },
  {
   "cell_type": "code",
   "execution_count": 11,
   "id": "2104a2e5-3326-44c6-8f72-0da26db827ef",
   "metadata": {
    "scrolled": true
   },
   "outputs": [
    {
     "name": "stdout",
     "output_type": "stream",
     "text": [
      "Spike DataFrame:\n",
      "   Electrode      X      Y      Z  Spike Rate\n",
      "0     1TP1-2 -19.20  -1.50 -37.30       36.16\n",
      "1     1TP2-3 -24.10  -1.60 -38.05       27.54\n",
      "2     1TP3-4 -29.25  -1.65 -38.30        8.68\n",
      "3     1TP4-5 -34.65  -1.65 -37.75        2.64\n",
      "4     1TP5-6 -39.80  -1.60 -36.75        1.24\n",
      "..       ...    ...    ...    ...         ...\n",
      "84   12CR3-4  16.05  33.10  11.75        4.74\n",
      "85   12CR4-5  21.25  33.80  14.10        2.36\n",
      "86   12CR5-6  26.55  34.95  16.75        0.18\n",
      "87   12CR6-7  31.60  36.25  19.05        0.10\n",
      "88   12CR7-8  36.50  37.55  21.00        0.00\n",
      "\n",
      "[89 rows x 5 columns]\n"
     ]
    }
   ],
   "source": [
    "spike_data = [] # a list of dictionaries with electrodes coords and their spike_rate\n",
    "\n",
    "for i, electrode in enumerate(electrodes):\n",
    "    electrode_name = electrode[0]  # Access the string and split it\n",
    "   # if electrode_name in electrode_coords:\n",
    "    coords_1 = electrode_coords[electrode_name.split('-')[0]]\n",
    "    if electrode_name.split('-')[0][:(-1)] + str(int(electrode_name.split('-')[0][-1]) + 1) in electrode_coords:\n",
    "        second_electrode = electrode_name.split('-')[0][:(-1)] + str(int(electrode_name.split('-')[0][-1]) + 1)\n",
    "    elif electrode_name.split('-')[0][:(-1)] + electrode_name.split('-')[1][-1] in electrode_coords:\n",
    "        second_electrode = electrode_name.split('-')[0][:(-1)] + electrode_name.split('-')[1][-1]\n",
    "    else:\n",
    "        second_electrode = electrode_name.split('-')[0]\n",
    "    coords_2 = electrode_coords[second_electrode]\n",
    "    spike_data.append({\n",
    "            'Electrode': electrode_name,\n",
    "            'X': (coords_1[0]+coords_2[0])/2,\n",
    "            'Y': (coords_1[1]+coords_2[1])/2,\n",
    "            'Z': (coords_1[2]+coords_2[2])/2,\n",
    "            'Spike Rate': spike_rate[i]\n",
    "        })\n",
    "   # else:\n",
    "    #    print(f\"Electrode {electrode_name} not found in coordinates\")\n",
    "\n",
    "spike_df = pd.DataFrame(spike_data)\n",
    "print(\"Spike DataFrame:\")\n",
    "print(spike_df)"
   ]
  },
  {
   "cell_type": "code",
   "execution_count": 12,
   "id": "eee53d2c-0eda-480d-bf1e-f1045e66fe77",
   "metadata": {},
   "outputs": [
    {
     "data": {
      "text/html": [
       "<div>\n",
       "<style scoped>\n",
       "    .dataframe tbody tr th:only-of-type {\n",
       "        vertical-align: middle;\n",
       "    }\n",
       "\n",
       "    .dataframe tbody tr th {\n",
       "        vertical-align: top;\n",
       "    }\n",
       "\n",
       "    .dataframe thead th {\n",
       "        text-align: right;\n",
       "    }\n",
       "</style>\n",
       "<table border=\"1\" class=\"dataframe\">\n",
       "  <thead>\n",
       "    <tr style=\"text-align: right;\">\n",
       "      <th></th>\n",
       "      <th>Electrode</th>\n",
       "      <th>X</th>\n",
       "      <th>Y</th>\n",
       "      <th>Z</th>\n",
       "      <th>Spike Rate</th>\n",
       "    </tr>\n",
       "  </thead>\n",
       "  <tbody>\n",
       "    <tr>\n",
       "      <th>0</th>\n",
       "      <td>1TP1-2</td>\n",
       "      <td>-19.20</td>\n",
       "      <td>-1.50</td>\n",
       "      <td>-37.30</td>\n",
       "      <td>36.16</td>\n",
       "    </tr>\n",
       "    <tr>\n",
       "      <th>1</th>\n",
       "      <td>1TP2-3</td>\n",
       "      <td>-24.10</td>\n",
       "      <td>-1.60</td>\n",
       "      <td>-38.05</td>\n",
       "      <td>27.54</td>\n",
       "    </tr>\n",
       "    <tr>\n",
       "      <th>2</th>\n",
       "      <td>1TP3-4</td>\n",
       "      <td>-29.25</td>\n",
       "      <td>-1.65</td>\n",
       "      <td>-38.30</td>\n",
       "      <td>8.68</td>\n",
       "    </tr>\n",
       "    <tr>\n",
       "      <th>3</th>\n",
       "      <td>1TP4-5</td>\n",
       "      <td>-34.65</td>\n",
       "      <td>-1.65</td>\n",
       "      <td>-37.75</td>\n",
       "      <td>2.64</td>\n",
       "    </tr>\n",
       "    <tr>\n",
       "      <th>4</th>\n",
       "      <td>1TP5-6</td>\n",
       "      <td>-39.80</td>\n",
       "      <td>-1.60</td>\n",
       "      <td>-36.75</td>\n",
       "      <td>1.24</td>\n",
       "    </tr>\n",
       "  </tbody>\n",
       "</table>\n",
       "</div>"
      ],
      "text/plain": [
       "  Electrode      X     Y      Z  Spike Rate\n",
       "0    1TP1-2 -19.20 -1.50 -37.30       36.16\n",
       "1    1TP2-3 -24.10 -1.60 -38.05       27.54\n",
       "2    1TP3-4 -29.25 -1.65 -38.30        8.68\n",
       "3    1TP4-5 -34.65 -1.65 -37.75        2.64\n",
       "4    1TP5-6 -39.80 -1.60 -36.75        1.24"
      ]
     },
     "execution_count": 12,
     "metadata": {},
     "output_type": "execute_result"
    }
   ],
   "source": [
    "spike_df.head()"
   ]
  },
  {
   "cell_type": "code",
   "execution_count": 13,
   "id": "ce57fadc-0f15-44a9-aaed-0c8bf1a38a06",
   "metadata": {},
   "outputs": [
    {
     "data": {
      "text/html": [
       "<div>\n",
       "<style scoped>\n",
       "    .dataframe tbody tr th:only-of-type {\n",
       "        vertical-align: middle;\n",
       "    }\n",
       "\n",
       "    .dataframe tbody tr th {\n",
       "        vertical-align: top;\n",
       "    }\n",
       "\n",
       "    .dataframe thead th {\n",
       "        text-align: right;\n",
       "    }\n",
       "</style>\n",
       "<table border=\"1\" class=\"dataframe\">\n",
       "  <thead>\n",
       "    <tr style=\"text-align: right;\">\n",
       "      <th></th>\n",
       "      <th>Electrode</th>\n",
       "      <th>X</th>\n",
       "      <th>Y</th>\n",
       "      <th>Z</th>\n",
       "      <th>Spike Rate</th>\n",
       "    </tr>\n",
       "  </thead>\n",
       "  <tbody>\n",
       "    <tr>\n",
       "      <th>59</th>\n",
       "      <td>8B2-3</td>\n",
       "      <td>26.30</td>\n",
       "      <td>-14.15</td>\n",
       "      <td>-31.35</td>\n",
       "      <td>12.16</td>\n",
       "    </tr>\n",
       "    <tr>\n",
       "      <th>60</th>\n",
       "      <td>8B3-4</td>\n",
       "      <td>31.45</td>\n",
       "      <td>-14.00</td>\n",
       "      <td>-31.45</td>\n",
       "      <td>15.88</td>\n",
       "    </tr>\n",
       "    <tr>\n",
       "      <th>61</th>\n",
       "      <td>8B4-5</td>\n",
       "      <td>36.65</td>\n",
       "      <td>-13.80</td>\n",
       "      <td>-31.55</td>\n",
       "      <td>21.60</td>\n",
       "    </tr>\n",
       "    <tr>\n",
       "      <th>64</th>\n",
       "      <td>8B7-8</td>\n",
       "      <td>51.40</td>\n",
       "      <td>-13.15</td>\n",
       "      <td>-31.85</td>\n",
       "      <td>2.40</td>\n",
       "    </tr>\n",
       "    <tr>\n",
       "      <th>70</th>\n",
       "      <td>9C4-5</td>\n",
       "      <td>36.20</td>\n",
       "      <td>-36.00</td>\n",
       "      <td>-11.85</td>\n",
       "      <td>3.88</td>\n",
       "    </tr>\n",
       "  </tbody>\n",
       "</table>\n",
       "</div>"
      ],
      "text/plain": [
       "   Electrode      X      Y      Z  Spike Rate\n",
       "59     8B2-3  26.30 -14.15 -31.35       12.16\n",
       "60     8B3-4  31.45 -14.00 -31.45       15.88\n",
       "61     8B4-5  36.65 -13.80 -31.55       21.60\n",
       "64     8B7-8  51.40 -13.15 -31.85        2.40\n",
       "70     9C4-5  36.20 -36.00 -11.85        3.88"
      ]
     },
     "execution_count": 13,
     "metadata": {},
     "output_type": "execute_result"
    }
   ],
   "source": [
    "spike_df[spike_df.Electrode.isin(seeg_mask)]"
   ]
  },
  {
   "cell_type": "code",
   "execution_count": 14,
   "id": "209e3ec7-41e3-4d3d-85f5-f92298479906",
   "metadata": {},
   "outputs": [],
   "source": [
    "spike_df = spike_df[~spike_df.Electrode.isin(seeg_mask)]"
   ]
  },
  {
   "cell_type": "code",
   "execution_count": 15,
   "id": "43b1a91c-91e8-4a57-9f4c-e2c7f1e9f1a1",
   "metadata": {},
   "outputs": [
    {
     "data": {
      "text/plain": [
       "array(['1TP1-2', '1TP2-3', '1TP3-4', '1TP4-5', '1TP5-6', '1TP6-7',\n",
       "       '1TP7-8', '2B1-2', '2B2-3', '2B3-4', '2B4-5', '2B5-6', '2B6-7',\n",
       "       '2B7-8', '2B8-9', '2B9-10', '3C1-2', '3C2-3', '3C3-4', '3C4-5',\n",
       "       '3C5-6', '3C6-7', '3C7-8', '3C8-9', '3C9-10', '4GC1-2', '4GC2-3',\n",
       "       '4GC3-4', '4GC4-5', '4GC5-6', '4GC6-7', '4GC7-8', '4GC8-9',\n",
       "       '4GC9-10', '5CC1-2', '5CC2-3', '5CC3-4', '5CC4-5', '5CC5-6',\n",
       "       '5CC6-7', '5CC7-8', '5CC8-9', '5CC9-10', '6CR1-2', '6CR2-3',\n",
       "       '6CR3-4', '6CR4-5', '6CR5-6', '6CR6-7', '6CR7-8', '7TP1-2',\n",
       "       '7TP2-3', '7TP3-4', '7TP4-5', '7TP5-6', '7TP6-7', '7TP7-8',\n",
       "       '7TP8-9', '7TP9-10', '8B5-6', '8B6-7', '8B8-9', '8B9-10', '9C1-2',\n",
       "       '9C2-3', '9C3-4', '9C5-6', '9C6-7', '9C7-8', '9C8-9', '9C9-10',\n",
       "       '10GC2-3', '10GC3-4', '10GC4-5', '10GC5-6', '10GC6-7', '10GC7-8',\n",
       "       '10GC8-9', '12CR2-3', '12CR3-4', '12CR4-5', '12CR5-6', '12CR6-7',\n",
       "       '12CR7-8'], dtype=object)"
      ]
     },
     "execution_count": 15,
     "metadata": {},
     "output_type": "execute_result"
    }
   ],
   "source": [
    "spike_df.Electrode.values"
   ]
  },
  {
   "cell_type": "code",
   "execution_count": 16,
   "id": "711480f2-8397-4dc4-be59-6cb66ebc650d",
   "metadata": {},
   "outputs": [
    {
     "name": "stdout",
     "output_type": "stream",
     "text": [
      "Electrode with max spike rate: 7TP2-3\n",
      "40.1\n",
      "Localization: X=18.0, Y=-6.5, Z=-26.8\n"
     ]
    }
   ],
   "source": [
    "# finding the electrode with the highest spike activity\n",
    "\n",
    "max_spike_electrode = spike_df.loc[spike_df['Spike Rate'].idxmax()]\n",
    "\n",
    "print(f\"Electrode with max spike rate: {max_spike_electrode['Electrode']}\")\n",
    "print(max_spike_electrode['Spike Rate'])\n",
    "print(f\"Localization: X={max_spike_electrode['X']}, Y={max_spike_electrode['Y']}, Z={max_spike_electrode['Z']}\")"
   ]
  },
  {
   "cell_type": "code",
   "execution_count": 17,
   "id": "c03b681f-fff9-44d0-9a6e-827705d260aa",
   "metadata": {},
   "outputs": [],
   "source": [
    "MAX_SPIKE = max_spike_electrode['Spike Rate']"
   ]
  },
  {
   "cell_type": "code",
   "execution_count": 18,
   "id": "20081208-4ffe-4835-921a-6cc6b1071c48",
   "metadata": {},
   "outputs": [
    {
     "data": {
      "text/html": [
       "<script type=\"text/javascript\">\n",
       "    const toggleVisibility = (className) => {\n",
       "\n",
       "  const elements = document.querySelectorAll(`.${className}`)\n",
       "\n",
       "  elements.forEach(element => {\n",
       "    if (element.classList.contains('repr-section-header')) {\n",
       "      // Don't collapse the section header row.\n",
       "       return\n",
       "    }\n",
       "    if (element.classList.contains('repr-element-collapsed')) {\n",
       "      // Force a reflow to ensure the display change takes effect before removing the class\n",
       "      element.classList.remove('repr-element-collapsed')\n",
       "      element.offsetHeight // This forces the browser to recalculate layout\n",
       "      element.classList.remove('repr-element-faded')\n",
       "    } else {\n",
       "      // Start transition to hide the element\n",
       "      element.classList.add('repr-element-faded')\n",
       "      element.addEventListener('transitionend', handler = (e) => {\n",
       "        if (e.propertyName === 'opacity' && getComputedStyle(element).opacity === '0.2') {\n",
       "          element.classList.add('repr-element-collapsed')\n",
       "          element.removeEventListener('transitionend', handler)\n",
       "        }\n",
       "      });\n",
       "    }\n",
       "  });\n",
       "\n",
       "  // Take care of button (adjust caret)\n",
       "  const button = document.querySelectorAll(`.repr-section-header.${className} > th.repr-section-toggle-col > button`)[0]\n",
       "  button.classList.toggle('collapsed')\n",
       "\n",
       "  // Take care of the tooltip of the section header row\n",
       "  const sectionHeaderRow = document.querySelectorAll(`tr.repr-section-header.${className}`)[0]\n",
       "  sectionHeaderRow.classList.toggle('collapsed')\n",
       "  sectionHeaderRow.title = sectionHeaderRow.title === 'Hide section' ? 'Show section' : 'Hide section'\n",
       "}\n",
       "</script>\n",
       "\n",
       "<style type=\"text/css\">\n",
       "    table.repr.table.table-hover.table-striped.table-sm.table-responsive.small {\n",
       "  /* Don't make rows wider than they need to be. */\n",
       "  display: inline;\n",
       "}\n",
       "\n",
       "table > tbody > tr.repr-element > td {\n",
       "  /* Apply a tighter layout to the table cells. */\n",
       "  padding-top: 0.1rem;\n",
       "  padding-bottom: 0.1rem;\n",
       "  padding-right: 1rem;\n",
       "}\n",
       "\n",
       "table > tbody > tr > td.repr-section-toggle-col {\n",
       "  /* Remove background and border of the first cell in every row\n",
       "     (this row is only used for the collapse / uncollapse caret)\n",
       "\n",
       "     TODO: Need to find a good solution for VS Code that works in both\n",
       "           light and dark mode. */\n",
       "  border-color: transparent;\n",
       "  --bs-table-accent-bg: transparent;\n",
       "}\n",
       "\n",
       "tr.repr-section-header {\n",
       "  /* Remove stripes from section header rows */\n",
       "  background-color: transparent;\n",
       "  border-color: transparent;\n",
       "  --bs-table-striped-bg: transparent;\n",
       "  cursor: pointer;\n",
       "}\n",
       "\n",
       "tr.repr-section-header > th {\n",
       "  text-align: left !important;\n",
       "  vertical-align: middle;\n",
       "}\n",
       "\n",
       ".repr-element, tr.repr-element > td {\n",
       "  opacity: 1;\n",
       "  text-align: left !important;\n",
       "}\n",
       "\n",
       ".repr-element-faded {\n",
       "  transition: 0.3s ease;\n",
       "  opacity: 0.2;\n",
       "}\n",
       "\n",
       ".repr-element-collapsed {\n",
       "  display: none;\n",
       "}\n",
       "\n",
       "/* Collapse / uncollapse button and the caret it contains. */\n",
       ".repr-section-toggle-col button {\n",
       "  cursor: pointer;\n",
       "  width: 1rem;\n",
       "  background-color: transparent;\n",
       "  border-color: transparent;\n",
       "}\n",
       "\n",
       "span.collapse-uncollapse-caret {\n",
       "  width: 1rem;\n",
       "  height: 1rem;\n",
       "  display: block;\n",
       "  background-repeat: no-repeat;\n",
       "  background-position: left;\n",
       "  background-size: contain;\n",
       "}\n",
       "\n",
       "/* The collapse / uncollapse carets were copied from the free Font Awesome collection and adjusted. */\n",
       "\n",
       "/* Default to black carets for light mode */\n",
       ".repr-section-toggle-col > button.collapsed > span.collapse-uncollapse-caret {\n",
       "  background-image: url('data:image/svg+xml;charset=utf8,<svg xmlns=\"http://www.w3.org/2000/svg\" viewBox=\"0 0 256 512\"><!--!Font Awesome Free 6.5.2 by @fontawesome - https://fontawesome.com License - https://fontawesome.com/license/free Copyright 2024 Fonticons, Inc.--><path fill=\"black\" d=\"M246.6 278.6c12.5-12.5 12.5-32.8 0-45.3l-128-128c-9.2-9.2-22.9-11.9-34.9-6.9s-19.8 16.6-19.8 29.6l0 256c0 12.9 7.8 24.6 19.8 29.6s25.7 2.2 34.9-6.9l128-128z\"/></svg>');\n",
       "}\n",
       "\n",
       ".repr-section-toggle-col\n",
       "  > button:not(.collapsed)\n",
       "  > span.collapse-uncollapse-caret {\n",
       "  background-image: url('data:image/svg+xml;charset=utf8,<svg xmlns=\"http://www.w3.org/2000/svg\" viewBox=\"0 0 320 512\"><!--!Font Awesome Free 6.5.2 by @fontawesome - https://fontawesome.com License - https://fontawesome.com/license/free Copyright 2024 Fonticons, Inc.--><path fill=\"black\" d=\"M137.4 374.6c12.5 12.5 32.8 12.5 45.3 0l128-128c9.2-9.2 11.9-22.9 6.9-34.9s-16.6-19.8-29.6-19.8L32 192c-12.9 0-24.6 7.8-29.6 19.8s-2.2 25.7 6.9 34.9l128 128z\"/></svg>');\n",
       "}\n",
       "\n",
       "/* Use white carets for dark mode */\n",
       "@media (prefers-color-scheme: dark) {\n",
       "  .repr-section-toggle-col > button.collapsed > span.collapse-uncollapse-caret {\n",
       "    background-image: url('data:image/svg+xml;charset=utf8,<svg xmlns=\"http://www.w3.org/2000/svg\" viewBox=\"0 0 256 512\"><!--!Font Awesome Free 6.5.2 by @fontawesome - https://fontawesome.com License - https://fontawesome.com/license/free Copyright 2024 Fonticons, Inc.--><path fill=\"white\" d=\"M246.6 278.6c12.5-12.5 12.5-32.8 0-45.3l-128-128c-9.2-9.2-22.9-11.9-34.9-6.9s-19.8 16.6-19.8 29.6l0 256c0 12.9 7.8 24.6 19.8 29.6s25.7 2.2 34.9-6.9l128-128z\"/></svg>');\n",
       "  }\n",
       "\n",
       "  .repr-section-toggle-col\n",
       "    > button:not(.collapsed)\n",
       "    > span.collapse-uncollapse-caret {\n",
       "    background-image: url('data:image/svg+xml;charset=utf8,<svg xmlns=\"http://www.w3.org/2000/svg\" viewBox=\"0 0 320 512\"><!--!Font Awesome Free 6.5.2 by @fontawesome - https://fontawesome.com License - https://fontawesome.com/license/free Copyright 2024 Fonticons, Inc.--><path fill=\"white\" d=\"M137.4 374.6c12.5 12.5 32.8 12.5 45.3 0l128-128c9.2-9.2 11.9-22.9 6.9-34.9s-16.6-19.8-29.6-19.8L32 192c-12.9 0-24.6 7.8-29.6 19.8s-2.2 25.7 6.9 34.9l128 128z\"/></svg>');\n",
       "  }\n",
       "}\n",
       "\n",
       ".channel-names-btn {\n",
       "  padding: 0;\n",
       "  border: none;\n",
       "  background: none;\n",
       "  text-decoration: underline;\n",
       "  text-decoration-style: dashed;\n",
       "  cursor: pointer;\n",
       "  color: #0d6efd;\n",
       "}\n",
       "\n",
       ".channel-names-btn:hover {\n",
       "  color: #0a58ca;\n",
       "}\n",
       "</style>\n",
       "\n",
       "\n",
       "\n",
       "<table class=\"repr table table-hover table-striped table-sm table-responsive small\">\n",
       "    \n",
       "\n",
       "\n",
       "\n",
       "\n",
       "\n",
       "\n",
       "\n",
       "<tr class=\"repr-section-header general-ff773408-c112-44b2-bbbf-bb0aa92e5b4d\"  title=\"Hide section\" \n",
       "    onclick=\"toggleVisibility('general-ff773408-c112-44b2-bbbf-bb0aa92e5b4d')\">\n",
       "    <th class=\"repr-section-toggle-col\">\n",
       "        <button>\n",
       "            \n",
       "            <span class=\"collapse-uncollapse-caret\"></span>\n",
       "        </button>\n",
       "    </th>\n",
       "    <th colspan=\"2\">\n",
       "        <strong>General</strong>\n",
       "    </th>\n",
       "</tr>\n",
       "\n",
       "<tr class=\"repr-element general-ff773408-c112-44b2-bbbf-bb0aa92e5b4d \">\n",
       "    <td class=\"repr-section-toggle-col\"></td>\n",
       "    <td>MNE object type</td>\n",
       "    <td>Info</td>\n",
       "</tr>\n",
       "<tr class=\"repr-element general-ff773408-c112-44b2-bbbf-bb0aa92e5b4d \">\n",
       "    <td class=\"repr-section-toggle-col\"></td>\n",
       "    <td>Measurement date</td>\n",
       "    \n",
       "    <td>Unknown</td>\n",
       "    \n",
       "</tr>\n",
       "<tr class=\"repr-element general-ff773408-c112-44b2-bbbf-bb0aa92e5b4d \">\n",
       "    <td class=\"repr-section-toggle-col\"></td>\n",
       "    <td>Participant</td>\n",
       "    \n",
       "    <td>Unknown</td>\n",
       "    \n",
       "</tr>\n",
       "<tr class=\"repr-element general-ff773408-c112-44b2-bbbf-bb0aa92e5b4d \">\n",
       "    <td class=\"repr-section-toggle-col\"></td>\n",
       "    <td>Experimenter</td>\n",
       "    \n",
       "    <td>Unknown</td>\n",
       "    \n",
       "</tr>\n",
       "    \n",
       "\n",
       "\n",
       "\n",
       "\n",
       "\n",
       "\n",
       "\n",
       "<tr class=\"repr-section-header acquisition-bf12ba3b-a504-4d89-8a38-03270e3ce51a\" \n",
       "    title=\"Hide section\"  onclick=\"toggleVisibility('acquisition-bf12ba3b-a504-4d89-8a38-03270e3ce51a')\">\n",
       "    <th class=\"repr-section-toggle-col\">\n",
       "        <button>\n",
       "            \n",
       "            <span class=\"collapse-uncollapse-caret\"></span>\n",
       "        </button>\n",
       "    </th>\n",
       "    <th colspan=\"2\">\n",
       "        <strong>Acquisition</strong>\n",
       "    </th>\n",
       "</tr>\n",
       "\n",
       "\n",
       "\n",
       "\n",
       "\n",
       "\n",
       "\n",
       "\n",
       "<tr class=\"repr-element acquisition-bf12ba3b-a504-4d89-8a38-03270e3ce51a \">\n",
       "    <td class=\"repr-section-toggle-col\"></td>\n",
       "    <td>Sampling frequency</td>\n",
       "    <td>1000.00 Hz</td>\n",
       "</tr>\n",
       "\n",
       "\n",
       "\n",
       "    \n",
       "\n",
       "\n",
       "\n",
       "\n",
       "\n",
       "\n",
       "\n",
       "<tr class=\"repr-section-header channels-a78ce102-5c28-462e-8f07-07cc35f89070\"  title=\"Hide section\" \n",
       "    onclick=\"toggleVisibility('channels-a78ce102-5c28-462e-8f07-07cc35f89070')\">\n",
       "    <th class=\"repr-section-toggle-col\">\n",
       "        <button>\n",
       "            \n",
       "            <span class=\"collapse-uncollapse-caret\"></span>\n",
       "        </button>\n",
       "    </th>\n",
       "    <th colspan=\"2\">\n",
       "        <strong>Channels</strong>\n",
       "    </th>\n",
       "</tr>\n",
       "\n",
       "\n",
       "<tr class=\"repr-element channels-a78ce102-5c28-462e-8f07-07cc35f89070 \">\n",
       "    <td class=\"repr-section-toggle-col\"></td>\n",
       "    <td>sEEG</td>\n",
       "    <td>\n",
       "        <button class=\"channel-names-btn\" onclick=\"alert('Good sEEG:\\n\\n1TP1, 1TP2, 1TP3, 1TP4, 1TP5, 1TP6, 1TP7, 1TP8, 2B1, 2B2, 2B3, 2B4, 2B5, 2B6, 2B7, 2B8, 2B9, 2B10, 3C1, 3C2, 3C3, 3C4, 3C5, 3C6, 3C7, 3C8, 3C9, 3C10, 4GC1, 4GC2, 4GC3, 4GC4, 4GC5, 4GC6, 4GC7, 4GC8, 4GC9, 4GC10, 5CC1, 5CC2, 5CC3, 5CC4, 5CC5, 5CC6, 5CC7, 5CC8, 5CC9, 5CC10, 6CR1, 6CR2, 6CR3, 6CR4, 6CR5, 6CR6, 6CR7, 6CR8, 7TP1, 7TP2, 7TP3, 7TP4, 7TP5, 7TP6, 7TP7, 7TP8, 7TP9, 7TP10, 8B1, 8B2, 8B3, 8B4, 8B5, 8B6, 8B7, 8B8, 8B9, 8B10, 9C1, 9C2, 9C3, 9C4, 9C5, 9C6, 9C7, 9C8, 9C9, 9C10, 10GC1, 10GC2, 10GC3, 10GC4, 10GC5, 10GC6, 10GC7, 10GC8, 10GC9, 10GC10, 11CC1, 11CC2, 11CC3, 11CC4, 11CC5, 11CC6, 11CC7, 11CC8, 11CC9, 11CC10, 12CR1, 12CR2, 12CR3, 12CR4, 12CR5, 12CR6, 12CR7, 12CR8')\" title=\"(Click to open in popup)&#13;&#13;1TP1, 1TP2, 1TP3, 1TP4, 1TP5, 1TP6, 1TP7, 1TP8, 2B1, 2B2, 2B3, 2B4, 2B5, 2B6, 2B7, 2B8, 2B9, 2B10, 3C1, 3C2, 3C3, 3C4, 3C5, 3C6, 3C7, 3C8, 3C9, 3C10, 4GC1, 4GC2, 4GC3, 4GC4, 4GC5, 4GC6, 4GC7, 4GC8, 4GC9, 4GC10, 5CC1, 5CC2, 5CC3, 5CC4, 5CC5, 5CC6, 5CC7, 5CC8, 5CC9, 5CC10, 6CR1, 6CR2, 6CR3, 6CR4, 6CR5, 6CR6, 6CR7, 6CR8, 7TP1, 7TP2, 7TP3, 7TP4, 7TP5, 7TP6, 7TP7, 7TP8, 7TP9, 7TP10, 8B1, 8B2, 8B3, 8B4, 8B5, 8B6, 8B7, 8B8, 8B9, 8B10, 9C1, 9C2, 9C3, 9C4, 9C5, 9C6, 9C7, 9C8, 9C9, 9C10, 10GC1, 10GC2, 10GC3, 10GC4, 10GC5, 10GC6, 10GC7, 10GC8, 10GC9, 10GC10, 11CC1, 11CC2, 11CC3, 11CC4, 11CC5, 11CC6, 11CC7, 11CC8, 11CC9, 11CC10, 12CR1, 12CR2, 12CR3, 12CR4, 12CR5, 12CR6, 12CR7, 12CR8\">\n",
       "            114\n",
       "        </button>\n",
       "\n",
       "        \n",
       "    </td>\n",
       "</tr>\n",
       "\n",
       "\n",
       "<tr class=\"repr-element channels-a78ce102-5c28-462e-8f07-07cc35f89070 \">\n",
       "    <td class=\"repr-section-toggle-col\"></td>\n",
       "    <td>Head & sensor digitization</td>\n",
       "    \n",
       "    <td>117 points</td>\n",
       "    \n",
       "</tr>\n",
       "    \n",
       "\n",
       "\n",
       "\n",
       "\n",
       "\n",
       "\n",
       "\n",
       "<tr class=\"repr-section-header filters-f8cb1343-23c2-4c14-a558-0c7f882dd8b8\"  title=\"Hide section\" \n",
       "    onclick=\"toggleVisibility('filters-f8cb1343-23c2-4c14-a558-0c7f882dd8b8')\">\n",
       "    <th class=\"repr-section-toggle-col\">\n",
       "        <button>\n",
       "            \n",
       "            <span class=\"collapse-uncollapse-caret\"></span>\n",
       "        </button>\n",
       "    </th>\n",
       "    <th colspan=\"2\">\n",
       "        <strong>Filters</strong>\n",
       "    </th>\n",
       "</tr>\n",
       "\n",
       "<tr class=\"repr-element filters-f8cb1343-23c2-4c14-a558-0c7f882dd8b8 \">\n",
       "    <td class=\"repr-section-toggle-col\"></td>\n",
       "    <td>Highpass</td>\n",
       "    <td>0.00 Hz</td>\n",
       "</tr>\n",
       "\n",
       "\n",
       "<tr class=\"repr-element filters-f8cb1343-23c2-4c14-a558-0c7f882dd8b8 \">\n",
       "    <td class=\"repr-section-toggle-col\"></td>\n",
       "    <td>Lowpass</td>\n",
       "    <td>500.00 Hz</td>\n",
       "</tr>\n",
       "\n",
       "\n",
       "</table>"
      ],
      "text/plain": [
       "<Info | 8 non-empty values\n",
       " bads: []\n",
       " ch_names: 1TP1, 1TP2, 1TP3, 1TP4, 1TP5, 1TP6, 1TP7, 1TP8, 2B1, 2B2, 2B3, ...\n",
       " chs: 114 sEEG\n",
       " custom_ref_applied: False\n",
       " dig: 117 items (3 Cardinal, 114 EEG)\n",
       " highpass: 0.0 Hz\n",
       " lowpass: 500.0 Hz\n",
       " meas_date: unspecified\n",
       " nchan: 114\n",
       " projs: []\n",
       " sfreq: 1000.0 Hz\n",
       ">"
      ]
     },
     "execution_count": 18,
     "metadata": {},
     "output_type": "execute_result"
    }
   ],
   "source": [
    "ch_names=list(electrode_coords.keys())\n",
    "coords_mni_ras = np.array(localization_df[['X_2','Y_2','Z_2']])\n",
    "\n",
    "montage = mne.channels.make_dig_montage(\n",
    "    ch_pos=dict(zip(ch_names, coords_mni_ras/1000.0)),\n",
    "    coord_frame='head'  # because MNI is in MRI space\n",
    ")\n",
    "\n",
    "info = mne.create_info(ch_names=ch_names, ch_types='seeg', sfreq=1000)\n",
    "info.set_montage(montage)"
   ]
  },
  {
   "cell_type": "code",
   "execution_count": 19,
   "id": "d471a117-c10e-4ad5-978e-f98fd37eb470",
   "metadata": {},
   "outputs": [
    {
     "data": {
      "text/html": [
       "<script type=\"text/javascript\">\n",
       "    const toggleVisibility = (className) => {\n",
       "\n",
       "  const elements = document.querySelectorAll(`.${className}`)\n",
       "\n",
       "  elements.forEach(element => {\n",
       "    if (element.classList.contains('repr-section-header')) {\n",
       "      // Don't collapse the section header row.\n",
       "       return\n",
       "    }\n",
       "    if (element.classList.contains('repr-element-collapsed')) {\n",
       "      // Force a reflow to ensure the display change takes effect before removing the class\n",
       "      element.classList.remove('repr-element-collapsed')\n",
       "      element.offsetHeight // This forces the browser to recalculate layout\n",
       "      element.classList.remove('repr-element-faded')\n",
       "    } else {\n",
       "      // Start transition to hide the element\n",
       "      element.classList.add('repr-element-faded')\n",
       "      element.addEventListener('transitionend', handler = (e) => {\n",
       "        if (e.propertyName === 'opacity' && getComputedStyle(element).opacity === '0.2') {\n",
       "          element.classList.add('repr-element-collapsed')\n",
       "          element.removeEventListener('transitionend', handler)\n",
       "        }\n",
       "      });\n",
       "    }\n",
       "  });\n",
       "\n",
       "  // Take care of button (adjust caret)\n",
       "  const button = document.querySelectorAll(`.repr-section-header.${className} > th.repr-section-toggle-col > button`)[0]\n",
       "  button.classList.toggle('collapsed')\n",
       "\n",
       "  // Take care of the tooltip of the section header row\n",
       "  const sectionHeaderRow = document.querySelectorAll(`tr.repr-section-header.${className}`)[0]\n",
       "  sectionHeaderRow.classList.toggle('collapsed')\n",
       "  sectionHeaderRow.title = sectionHeaderRow.title === 'Hide section' ? 'Show section' : 'Hide section'\n",
       "}\n",
       "</script>\n",
       "\n",
       "<style type=\"text/css\">\n",
       "    table.repr.table.table-hover.table-striped.table-sm.table-responsive.small {\n",
       "  /* Don't make rows wider than they need to be. */\n",
       "  display: inline;\n",
       "}\n",
       "\n",
       "table > tbody > tr.repr-element > td {\n",
       "  /* Apply a tighter layout to the table cells. */\n",
       "  padding-top: 0.1rem;\n",
       "  padding-bottom: 0.1rem;\n",
       "  padding-right: 1rem;\n",
       "}\n",
       "\n",
       "table > tbody > tr > td.repr-section-toggle-col {\n",
       "  /* Remove background and border of the first cell in every row\n",
       "     (this row is only used for the collapse / uncollapse caret)\n",
       "\n",
       "     TODO: Need to find a good solution for VS Code that works in both\n",
       "           light and dark mode. */\n",
       "  border-color: transparent;\n",
       "  --bs-table-accent-bg: transparent;\n",
       "}\n",
       "\n",
       "tr.repr-section-header {\n",
       "  /* Remove stripes from section header rows */\n",
       "  background-color: transparent;\n",
       "  border-color: transparent;\n",
       "  --bs-table-striped-bg: transparent;\n",
       "  cursor: pointer;\n",
       "}\n",
       "\n",
       "tr.repr-section-header > th {\n",
       "  text-align: left !important;\n",
       "  vertical-align: middle;\n",
       "}\n",
       "\n",
       ".repr-element, tr.repr-element > td {\n",
       "  opacity: 1;\n",
       "  text-align: left !important;\n",
       "}\n",
       "\n",
       ".repr-element-faded {\n",
       "  transition: 0.3s ease;\n",
       "  opacity: 0.2;\n",
       "}\n",
       "\n",
       ".repr-element-collapsed {\n",
       "  display: none;\n",
       "}\n",
       "\n",
       "/* Collapse / uncollapse button and the caret it contains. */\n",
       ".repr-section-toggle-col button {\n",
       "  cursor: pointer;\n",
       "  width: 1rem;\n",
       "  background-color: transparent;\n",
       "  border-color: transparent;\n",
       "}\n",
       "\n",
       "span.collapse-uncollapse-caret {\n",
       "  width: 1rem;\n",
       "  height: 1rem;\n",
       "  display: block;\n",
       "  background-repeat: no-repeat;\n",
       "  background-position: left;\n",
       "  background-size: contain;\n",
       "}\n",
       "\n",
       "/* The collapse / uncollapse carets were copied from the free Font Awesome collection and adjusted. */\n",
       "\n",
       "/* Default to black carets for light mode */\n",
       ".repr-section-toggle-col > button.collapsed > span.collapse-uncollapse-caret {\n",
       "  background-image: url('data:image/svg+xml;charset=utf8,<svg xmlns=\"http://www.w3.org/2000/svg\" viewBox=\"0 0 256 512\"><!--!Font Awesome Free 6.5.2 by @fontawesome - https://fontawesome.com License - https://fontawesome.com/license/free Copyright 2024 Fonticons, Inc.--><path fill=\"black\" d=\"M246.6 278.6c12.5-12.5 12.5-32.8 0-45.3l-128-128c-9.2-9.2-22.9-11.9-34.9-6.9s-19.8 16.6-19.8 29.6l0 256c0 12.9 7.8 24.6 19.8 29.6s25.7 2.2 34.9-6.9l128-128z\"/></svg>');\n",
       "}\n",
       "\n",
       ".repr-section-toggle-col\n",
       "  > button:not(.collapsed)\n",
       "  > span.collapse-uncollapse-caret {\n",
       "  background-image: url('data:image/svg+xml;charset=utf8,<svg xmlns=\"http://www.w3.org/2000/svg\" viewBox=\"0 0 320 512\"><!--!Font Awesome Free 6.5.2 by @fontawesome - https://fontawesome.com License - https://fontawesome.com/license/free Copyright 2024 Fonticons, Inc.--><path fill=\"black\" d=\"M137.4 374.6c12.5 12.5 32.8 12.5 45.3 0l128-128c9.2-9.2 11.9-22.9 6.9-34.9s-16.6-19.8-29.6-19.8L32 192c-12.9 0-24.6 7.8-29.6 19.8s-2.2 25.7 6.9 34.9l128 128z\"/></svg>');\n",
       "}\n",
       "\n",
       "/* Use white carets for dark mode */\n",
       "@media (prefers-color-scheme: dark) {\n",
       "  .repr-section-toggle-col > button.collapsed > span.collapse-uncollapse-caret {\n",
       "    background-image: url('data:image/svg+xml;charset=utf8,<svg xmlns=\"http://www.w3.org/2000/svg\" viewBox=\"0 0 256 512\"><!--!Font Awesome Free 6.5.2 by @fontawesome - https://fontawesome.com License - https://fontawesome.com/license/free Copyright 2024 Fonticons, Inc.--><path fill=\"white\" d=\"M246.6 278.6c12.5-12.5 12.5-32.8 0-45.3l-128-128c-9.2-9.2-22.9-11.9-34.9-6.9s-19.8 16.6-19.8 29.6l0 256c0 12.9 7.8 24.6 19.8 29.6s25.7 2.2 34.9-6.9l128-128z\"/></svg>');\n",
       "  }\n",
       "\n",
       "  .repr-section-toggle-col\n",
       "    > button:not(.collapsed)\n",
       "    > span.collapse-uncollapse-caret {\n",
       "    background-image: url('data:image/svg+xml;charset=utf8,<svg xmlns=\"http://www.w3.org/2000/svg\" viewBox=\"0 0 320 512\"><!--!Font Awesome Free 6.5.2 by @fontawesome - https://fontawesome.com License - https://fontawesome.com/license/free Copyright 2024 Fonticons, Inc.--><path fill=\"white\" d=\"M137.4 374.6c12.5 12.5 32.8 12.5 45.3 0l128-128c9.2-9.2 11.9-22.9 6.9-34.9s-16.6-19.8-29.6-19.8L32 192c-12.9 0-24.6 7.8-29.6 19.8s-2.2 25.7 6.9 34.9l128 128z\"/></svg>');\n",
       "  }\n",
       "}\n",
       "\n",
       ".channel-names-btn {\n",
       "  padding: 0;\n",
       "  border: none;\n",
       "  background: none;\n",
       "  text-decoration: underline;\n",
       "  text-decoration-style: dashed;\n",
       "  cursor: pointer;\n",
       "  color: #0d6efd;\n",
       "}\n",
       "\n",
       ".channel-names-btn:hover {\n",
       "  color: #0a58ca;\n",
       "}\n",
       "</style>\n",
       "\n",
       "\n",
       "\n",
       "<table class=\"repr table table-hover table-striped table-sm table-responsive small\">\n",
       "    \n",
       "\n",
       "\n",
       "\n",
       "\n",
       "\n",
       "\n",
       "\n",
       "<tr class=\"repr-section-header general-974ebc3e-e796-4f2a-82fd-80d1deca32dd\"  title=\"Hide section\" \n",
       "    onclick=\"toggleVisibility('general-974ebc3e-e796-4f2a-82fd-80d1deca32dd')\">\n",
       "    <th class=\"repr-section-toggle-col\">\n",
       "        <button>\n",
       "            \n",
       "            <span class=\"collapse-uncollapse-caret\"></span>\n",
       "        </button>\n",
       "    </th>\n",
       "    <th colspan=\"2\">\n",
       "        <strong>General</strong>\n",
       "    </th>\n",
       "</tr>\n",
       "\n",
       "<tr class=\"repr-element general-974ebc3e-e796-4f2a-82fd-80d1deca32dd \">\n",
       "    <td class=\"repr-section-toggle-col\"></td>\n",
       "    <td>MNE object type</td>\n",
       "    <td>Info</td>\n",
       "</tr>\n",
       "<tr class=\"repr-element general-974ebc3e-e796-4f2a-82fd-80d1deca32dd \">\n",
       "    <td class=\"repr-section-toggle-col\"></td>\n",
       "    <td>Measurement date</td>\n",
       "    \n",
       "    <td>Unknown</td>\n",
       "    \n",
       "</tr>\n",
       "<tr class=\"repr-element general-974ebc3e-e796-4f2a-82fd-80d1deca32dd \">\n",
       "    <td class=\"repr-section-toggle-col\"></td>\n",
       "    <td>Participant</td>\n",
       "    \n",
       "    <td>Unknown</td>\n",
       "    \n",
       "</tr>\n",
       "<tr class=\"repr-element general-974ebc3e-e796-4f2a-82fd-80d1deca32dd \">\n",
       "    <td class=\"repr-section-toggle-col\"></td>\n",
       "    <td>Experimenter</td>\n",
       "    \n",
       "    <td>Unknown</td>\n",
       "    \n",
       "</tr>\n",
       "    \n",
       "\n",
       "\n",
       "\n",
       "\n",
       "\n",
       "\n",
       "\n",
       "<tr class=\"repr-section-header acquisition-25aa337d-1cfc-4d7d-a08f-be328492a8c1\" \n",
       "    title=\"Hide section\"  onclick=\"toggleVisibility('acquisition-25aa337d-1cfc-4d7d-a08f-be328492a8c1')\">\n",
       "    <th class=\"repr-section-toggle-col\">\n",
       "        <button>\n",
       "            \n",
       "            <span class=\"collapse-uncollapse-caret\"></span>\n",
       "        </button>\n",
       "    </th>\n",
       "    <th colspan=\"2\">\n",
       "        <strong>Acquisition</strong>\n",
       "    </th>\n",
       "</tr>\n",
       "\n",
       "\n",
       "\n",
       "\n",
       "\n",
       "\n",
       "\n",
       "\n",
       "<tr class=\"repr-element acquisition-25aa337d-1cfc-4d7d-a08f-be328492a8c1 \">\n",
       "    <td class=\"repr-section-toggle-col\"></td>\n",
       "    <td>Sampling frequency</td>\n",
       "    <td>1000.00 Hz</td>\n",
       "</tr>\n",
       "\n",
       "\n",
       "\n",
       "    \n",
       "\n",
       "\n",
       "\n",
       "\n",
       "\n",
       "\n",
       "\n",
       "<tr class=\"repr-section-header channels-d72d81f3-692e-49a3-ba1c-2cc9a703a39d\"  title=\"Hide section\" \n",
       "    onclick=\"toggleVisibility('channels-d72d81f3-692e-49a3-ba1c-2cc9a703a39d')\">\n",
       "    <th class=\"repr-section-toggle-col\">\n",
       "        <button>\n",
       "            \n",
       "            <span class=\"collapse-uncollapse-caret\"></span>\n",
       "        </button>\n",
       "    </th>\n",
       "    <th colspan=\"2\">\n",
       "        <strong>Channels</strong>\n",
       "    </th>\n",
       "</tr>\n",
       "\n",
       "\n",
       "<tr class=\"repr-element channels-d72d81f3-692e-49a3-ba1c-2cc9a703a39d \">\n",
       "    <td class=\"repr-section-toggle-col\"></td>\n",
       "    <td>sEEG</td>\n",
       "    <td>\n",
       "        <button class=\"channel-names-btn\" onclick=\"alert('Good sEEG:\\n\\n1TP1, 1TP2, 1TP3, 1TP4, 1TP5, 1TP6, 1TP7, 1TP8, 2B1, 2B2, 2B3, 2B4, 2B5, 2B6, 2B7, 2B8, 2B9, 2B10, 3C1, 3C2, 3C3, 3C4, 3C5, 3C6, 3C7, 3C8, 3C9, 3C10, 4GC1, 4GC2, 4GC3, 4GC4, 4GC5, 4GC6, 4GC7, 4GC8, 4GC9, 4GC10, 5CC1, 5CC2, 5CC3, 5CC4, 5CC5, 5CC6, 5CC7, 5CC8, 5CC9, 5CC10, 6CR1, 6CR2, 6CR3, 6CR4, 6CR5, 6CR6, 6CR7, 6CR8, 7TP1, 7TP2, 7TP3, 7TP4, 7TP5, 7TP6, 7TP7, 7TP8, 7TP9, 7TP10, 8B1, 8B2, 8B3, 8B4, 8B5, 8B6, 8B7, 8B8, 8B9, 8B10, 9C1, 9C2, 9C3, 9C4, 9C5, 9C6, 9C7, 9C8, 9C9, 9C10, 10GC1, 10GC2, 10GC3, 10GC4, 10GC5, 10GC6, 10GC7, 10GC8, 10GC9, 10GC10, 11CC1, 11CC2, 11CC3, 11CC4, 11CC5, 11CC6, 11CC7, 11CC8, 11CC9, 11CC10, 12CR1, 12CR2, 12CR3, 12CR4, 12CR5, 12CR6, 12CR7, 12CR8')\" title=\"(Click to open in popup)&#13;&#13;1TP1, 1TP2, 1TP3, 1TP4, 1TP5, 1TP6, 1TP7, 1TP8, 2B1, 2B2, 2B3, 2B4, 2B5, 2B6, 2B7, 2B8, 2B9, 2B10, 3C1, 3C2, 3C3, 3C4, 3C5, 3C6, 3C7, 3C8, 3C9, 3C10, 4GC1, 4GC2, 4GC3, 4GC4, 4GC5, 4GC6, 4GC7, 4GC8, 4GC9, 4GC10, 5CC1, 5CC2, 5CC3, 5CC4, 5CC5, 5CC6, 5CC7, 5CC8, 5CC9, 5CC10, 6CR1, 6CR2, 6CR3, 6CR4, 6CR5, 6CR6, 6CR7, 6CR8, 7TP1, 7TP2, 7TP3, 7TP4, 7TP5, 7TP6, 7TP7, 7TP8, 7TP9, 7TP10, 8B1, 8B2, 8B3, 8B4, 8B5, 8B6, 8B7, 8B8, 8B9, 8B10, 9C1, 9C2, 9C3, 9C4, 9C5, 9C6, 9C7, 9C8, 9C9, 9C10, 10GC1, 10GC2, 10GC3, 10GC4, 10GC5, 10GC6, 10GC7, 10GC8, 10GC9, 10GC10, 11CC1, 11CC2, 11CC3, 11CC4, 11CC5, 11CC6, 11CC7, 11CC8, 11CC9, 11CC10, 12CR1, 12CR2, 12CR3, 12CR4, 12CR5, 12CR6, 12CR7, 12CR8\">\n",
       "            114\n",
       "        </button>\n",
       "\n",
       "        \n",
       "    </td>\n",
       "</tr>\n",
       "\n",
       "\n",
       "<tr class=\"repr-element channels-d72d81f3-692e-49a3-ba1c-2cc9a703a39d \">\n",
       "    <td class=\"repr-section-toggle-col\"></td>\n",
       "    <td>Head & sensor digitization</td>\n",
       "    \n",
       "    <td>117 points</td>\n",
       "    \n",
       "</tr>\n",
       "    \n",
       "\n",
       "\n",
       "\n",
       "\n",
       "\n",
       "\n",
       "\n",
       "<tr class=\"repr-section-header filters-3f922533-6120-4293-b2ec-4e400b2e3f6b\"  title=\"Hide section\" \n",
       "    onclick=\"toggleVisibility('filters-3f922533-6120-4293-b2ec-4e400b2e3f6b')\">\n",
       "    <th class=\"repr-section-toggle-col\">\n",
       "        <button>\n",
       "            \n",
       "            <span class=\"collapse-uncollapse-caret\"></span>\n",
       "        </button>\n",
       "    </th>\n",
       "    <th colspan=\"2\">\n",
       "        <strong>Filters</strong>\n",
       "    </th>\n",
       "</tr>\n",
       "\n",
       "<tr class=\"repr-element filters-3f922533-6120-4293-b2ec-4e400b2e3f6b \">\n",
       "    <td class=\"repr-section-toggle-col\"></td>\n",
       "    <td>Highpass</td>\n",
       "    <td>0.00 Hz</td>\n",
       "</tr>\n",
       "\n",
       "\n",
       "<tr class=\"repr-element filters-3f922533-6120-4293-b2ec-4e400b2e3f6b \">\n",
       "    <td class=\"repr-section-toggle-col\"></td>\n",
       "    <td>Lowpass</td>\n",
       "    <td>500.00 Hz</td>\n",
       "</tr>\n",
       "\n",
       "\n",
       "</table>"
      ],
      "text/plain": [
       "<Info | 8 non-empty values\n",
       " bads: []\n",
       " ch_names: 1TP1, 1TP2, 1TP3, 1TP4, 1TP5, 1TP6, 1TP7, 1TP8, 2B1, 2B2, 2B3, ...\n",
       " chs: 114 sEEG\n",
       " custom_ref_applied: False\n",
       " dig: 117 items (3 Cardinal, 114 EEG)\n",
       " highpass: 0.0 Hz\n",
       " lowpass: 500.0 Hz\n",
       " meas_date: unspecified\n",
       " nchan: 114\n",
       " projs: []\n",
       " sfreq: 1000.0 Hz\n",
       ">"
      ]
     },
     "execution_count": 19,
     "metadata": {},
     "output_type": "execute_result"
    }
   ],
   "source": [
    "info"
   ]
  },
  {
   "cell_type": "code",
   "execution_count": 20,
   "id": "0b00425b-80b3-4465-b407-ab5d5366ed4b",
   "metadata": {},
   "outputs": [
    {
     "data": {
      "text/plain": [
       "'\\nbrain = mne.viz.Brain(\\n    \"fsaverage\",\\n    subjects_dir=subjects_dir,\\n    cortex=\"low_contrast\",\\n    alpha=0.25,\\n    background=\"white\",\\n    # surf = \\'inflated\\'\\n)\\n\\nbrain.add_sensors(info, trans=identity_trans)\\nbrain.add_head(alpha=0.25, color=\"tan\")\\nbrain.show_view(distance=400, **view_kwargs)\\n'"
      ]
     },
     "execution_count": 20,
     "metadata": {},
     "output_type": "execute_result"
    }
   ],
   "source": [
    "identity_trans = mne.transforms.Transform('head', 'mri')  # head → mri\n",
    "identity_trans['trans'] = np.eye(4)\n",
    "\n",
    "view_kwargs = dict(azimuth=105, elevation=100, focalpoint=(0, 0, -15))\n",
    "'''\n",
    "brain = mne.viz.Brain(\n",
    "    \"fsaverage\",\n",
    "    subjects_dir=subjects_dir,\n",
    "    cortex=\"low_contrast\",\n",
    "    alpha=0.25,\n",
    "    background=\"white\",\n",
    "    # surf = 'inflated'\n",
    ")\n",
    "\n",
    "brain.add_sensors(info, trans=identity_trans)\n",
    "brain.add_head(alpha=0.25, color=\"tan\")\n",
    "brain.show_view(distance=400, **view_kwargs)\n",
    "'''"
   ]
  },
  {
   "cell_type": "code",
   "execution_count": 21,
   "id": "364da387-09f3-424b-b1b1-b72355bea914",
   "metadata": {},
   "outputs": [
    {
     "name": "stdout",
     "output_type": "stream",
     "text": [
      "    Reading a source space...\n",
      "    [done]\n",
      "    1 source spaces read\n"
     ]
    }
   ],
   "source": [
    "# get standard fsaverage volume (5mm grid) source space\n",
    "fname_src = subjects_dir / \"fsaverage\" / \"bem\" / \"fsaverage-vol-5-src.fif\"\n",
    "vol_src = mne.read_source_spaces(fname_src)\n",
    "\n",
    "aver_src = vol_src"
   ]
  },
  {
   "cell_type": "code",
   "execution_count": 22,
   "id": "ba2a028b-9b8b-4f9a-8c66-5487a9002d6d",
   "metadata": {},
   "outputs": [],
   "source": [
    "import numpy as np\n",
    "import nibabel as nib\n",
    "from scipy.spatial import cKDTree"
   ]
  },
  {
   "cell_type": "code",
   "execution_count": 23,
   "id": "045391d3-148f-4380-ac43-562b906055b8",
   "metadata": {},
   "outputs": [],
   "source": [
    "# electrode MNI coordinates (the highest spike rate)\n",
    "mni_coords_mm = np.array([[15.2, -6.6, -26.6]]) / 1000\n",
    "\n",
    "# all source points from the source space\n",
    "all_rr = np.concatenate([s['rr'][s['inuse'].astype(bool)] for s in vol_src])\n",
    "\n",
    "tree = cKDTree(all_rr)\n",
    "dist, idx = tree.query(mni_coords_mm) # the index of the closest source point"
   ]
  },
  {
   "cell_type": "code",
   "execution_count": 24,
   "id": "242e1f53-2488-4c25-a0ee-5bbe5facd0aa",
   "metadata": {},
   "outputs": [],
   "source": [
    "def find_closest(coords, tree):\n",
    "    mni_coords_mm = np.array([coords]) # coords is a list of x y z\n",
    "    dist, idx = tree.query(mni_coords_mm) # the index of the closest source point\n",
    "    return idx\n",
    "\n",
    "all_rr = np.concatenate([s['rr'][s['inuse'].astype(bool)] for s in vol_src])\n",
    "tree = cKDTree(all_rr)"
   ]
  },
  {
   "cell_type": "code",
   "execution_count": 26,
   "id": "4ccb64ee-be1f-4a2c-9b97-ff2397ea57ba",
   "metadata": {},
   "outputs": [],
   "source": [
    "coordinates = [[x / 1000, y / 1000, z / 1000] for x, y, z in zip(spike_df.X.values, spike_df.Y.values, spike_df.Z.values)]\n",
    "spike_rates = spike_df[\"Spike Rate\"].values\n",
    "src_coords = []\n",
    "rates = dict()\n",
    "\n",
    "for electrode, rate in zip(coordinates, spike_rates):\n",
    "    src_id = find_closest(electrode, tree)\n",
    "    src_coord = all_rr[src_id]\n",
    "    if str(src_id) in rates:\n",
    "        rates[str(src_id)].append(rate)\n",
    "    else:\n",
    "        rates[str(src_id)] = [rate]\n",
    "    src_coords.append(src_coord)  \n",
    "\n",
    "rates_ = dict([(src_id, sum(rate)/len(rate)) for src_id, rate in rates.items()])"
   ]
  },
  {
   "cell_type": "code",
   "execution_count": 27,
   "id": "8118e325-7b16-446e-8123-4b351bb2ce32",
   "metadata": {},
   "outputs": [
    {
     "data": {
      "text/plain": [
       "(14629, 3)"
      ]
     },
     "execution_count": 27,
     "metadata": {},
     "output_type": "execute_result"
    }
   ],
   "source": [
    "all_rr.shape"
   ]
  },
  {
   "cell_type": "code",
   "execution_count": 28,
   "id": "3da3b99b-8d29-4890-8ec4-5994dbbe3ca3",
   "metadata": {},
   "outputs": [],
   "source": [
    "all_rr_mm = all_rr \n",
    "source_coords_mm = all_rr_mm[idx]"
   ]
  },
  {
   "cell_type": "code",
   "execution_count": 29,
   "id": "30d8adfc-8b46-43cf-aedc-dad5b5f341d6",
   "metadata": {},
   "outputs": [
    {
     "data": {
      "text/plain": [
       "array([[ 0.015, -0.005, -0.025]])"
      ]
     },
     "execution_count": 29,
     "metadata": {},
     "output_type": "execute_result"
    }
   ],
   "source": [
    "source_coords_mm"
   ]
  },
  {
   "cell_type": "code",
   "execution_count": 30,
   "id": "a98d2951-ac76-46c1-a01e-fa8eb256c8c1",
   "metadata": {},
   "outputs": [
    {
     "data": {
      "text/plain": [
       "array([[ 0.0152, -0.0066, -0.0266]])"
      ]
     },
     "execution_count": 30,
     "metadata": {},
     "output_type": "execute_result"
    }
   ],
   "source": [
    "mni_coords_mm "
   ]
  },
  {
   "cell_type": "code",
   "execution_count": 31,
   "id": "95bf3e66-2a1e-492e-b6aa-b154b8879d6f",
   "metadata": {},
   "outputs": [],
   "source": [
    "n_sources = all_rr.shape[0]\n",
    "data = np.zeros((n_sources, 100))\n",
    "for idx in rates.keys():\n",
    "    idx_ = int(idx.replace('[', '').replace(']', ''))\n",
    "    data[idx_] = np.array([rates_[idx]] * 100)\n",
    "\n",
    "vertices = [np.arange(n_sources)]"
   ]
  },
  {
   "cell_type": "code",
   "execution_count": 32,
   "id": "60a14e65-8e89-472d-9e62-6b146a459ab3",
   "metadata": {},
   "outputs": [],
   "source": [
    "idxs = [int(x.replace('[', '').replace(']', '')) for x in rates.keys()]"
   ]
  },
  {
   "cell_type": "code",
   "execution_count": 33,
   "id": "1372c02c-f6d0-4754-83d8-0fb25b49bbef",
   "metadata": {},
   "outputs": [],
   "source": [
    "rates_tresh = dict()\n",
    "rates_tresh_ = dict()\n",
    "for key, value in rates.items():\n",
    "    if value[0] / MAX_SPIKE > 0.5:\n",
    "        rates_tresh[key] = value[0] / MAX_SPIKE * 3\n",
    "        rates_tresh_[key] = value[0] / MAX_SPIKE * 3\n",
    "    else:\n",
    "        rates_tresh[key] = [0.0]\n",
    "        rates_tresh_[key] = 0.0\n",
    "    '''\n",
    "    if value[0] >= 20:\n",
    "        rates_tresh[key] = value[0]\n",
    "        rates_tresh_[key] = value[0]\n",
    "    else:\n",
    "        rates_tresh[key] = [0.0]\n",
    "        rates_tresh_[key] = 0.0\n",
    "    rates_tresh[key] = [value[0] / 40.1]\n",
    "    rates_tresh_[key] = value[0] / 40.1\n",
    "    '''"
   ]
  },
  {
   "cell_type": "code",
   "execution_count": 34,
   "id": "04ceff7a-fa7d-4090-a1d1-4f050aad1051",
   "metadata": {},
   "outputs": [
    {
     "name": "stdout",
     "output_type": "stream",
     "text": [
      "Data shape: (84, 1), Vertices: [array([ 9777,  9778,  9779, 11047, 11048, 11049, 11061, 11062, 11063,\n",
      "       11067, 12186, 12187, 12188, 12189, 12216, 12217, 12218, 12247,\n",
      "       12248, 12267, 12268, 12270, 12304, 12331, 12332, 12333, 13614,\n",
      "       13616, 13617, 15996, 15997, 15998, 15999, 16000, 17279, 17280,\n",
      "       17281, 18518, 18519, 18520, 18521, 18522, 18523, 18524, 18525,\n",
      "       19813, 22887, 22888, 23613, 23614, 24105, 24135, 24136, 24137,\n",
      "       24165, 24166, 24167, 24176, 24177, 24871, 24872, 24874, 24889,\n",
      "       24890, 24891, 24892, 24893, 24894, 24895, 24902, 24903, 24929,\n",
      "       24930, 25260, 25261, 25465, 25499, 26545, 26546, 26577, 27862,\n",
      "       27863, 29147, 29148], dtype=int64)]\n"
     ]
    }
   ],
   "source": [
    "unique_sorted_indices = np.array(sorted(idxs))\n",
    "unique_spike_values = [rates_tresh_[f'[{idx}]'] for idx in unique_sorted_indices]\n",
    "# Создаем данные для VolSourceEstimate\n",
    "correct_vertices = np.array([vol_src[0]['vertno'][x] for x in sorted(idxs)])\n",
    "vertices = [correct_vertices]  # Используем уникальные отсортированные индексы\n",
    "data = np.array(unique_spike_values)[:, np.newaxis]  # Приведение к форме (n_vertices, n_times)\n",
    "\n",
    "# Проверяем размерность и корректность\n",
    "print(f\"Data shape: {data.shape}, Vertices: {vertices}\")"
   ]
  },
  {
   "cell_type": "code",
   "execution_count": 35,
   "id": "0d5466a9-718b-4f0c-8680-4aeb5d7b91d2",
   "metadata": {},
   "outputs": [],
   "source": [
    "vals_to_verts = dict(zip(vertices[0].tolist(), unique_spike_values))\n",
    "\n",
    "all_vertices = vol_src[0]['vertno']\n",
    "all_values = []\n",
    "for vert in all_vertices:\n",
    "    if vert in vals_to_verts.keys():\n",
    "        all_values.append(vals_to_verts[vert])\n",
    "    else:\n",
    "        all_values.append(0)\n",
    "        \n",
    "full_data = np.array(all_values)[:, np.newaxis]\n",
    "full_verts = [all_vertices]\n",
    "\n",
    "full_stc_seeg = mne.VolSourceEstimate(\n",
    "    data=full_data,\n",
    "    vertices=full_verts,\n",
    "    tmin=0,\n",
    "    tstep=1,\n",
    "    subject=\"fsaverage\"\n",
    ")"
   ]
  },
  {
   "cell_type": "code",
   "execution_count": 36,
   "id": "f27ce5ca-a17d-417b-8103-87418584e007",
   "metadata": {},
   "outputs": [],
   "source": [
    "iz_seeg = []\n",
    "for act, vert in zip(data.tolist(), vertices[0].tolist()):\n",
    "    if act[0] != 0:\n",
    "        iz_seeg.append(vert)"
   ]
  },
  {
   "cell_type": "code",
   "execution_count": 37,
   "id": "86a6f405-d29d-46ed-bf9d-c819f2e7124d",
   "metadata": {},
   "outputs": [
    {
     "data": {
      "text/plain": [
       "8"
      ]
     },
     "execution_count": 37,
     "metadata": {},
     "output_type": "execute_result"
    }
   ],
   "source": [
    "len(iz_seeg)"
   ]
  },
  {
   "cell_type": "code",
   "execution_count": 38,
   "id": "94de4ad3-582b-46a3-a032-4e419f5551ae",
   "metadata": {},
   "outputs": [],
   "source": [
    "vol_stc = mne.VolSourceEstimate(\n",
    "    data=data,\n",
    "    vertices=vertices,\n",
    "    tmin=0,\n",
    "    tstep=1,\n",
    "    subject=\"fsaverage\"\n",
    ")"
   ]
  },
  {
   "cell_type": "code",
   "execution_count": 39,
   "id": "4d9971c3-404e-488a-a268-7fdea16e0e26",
   "metadata": {},
   "outputs": [
    {
     "data": {
      "text/plain": [
       "<VolSourceEstimate | 84 vertices, subject : fsaverage, tmin : 0.0 (ms), tmax : 0.0 (ms), tstep : 1000.0 (ms), data shape : (84, 1), ~2 kB>"
      ]
     },
     "execution_count": 39,
     "metadata": {},
     "output_type": "execute_result"
    }
   ],
   "source": [
    "vol_stc"
   ]
  },
  {
   "cell_type": "code",
   "execution_count": 40,
   "id": "943fa98c-3c15-4028-affb-3f3eef662ab7",
   "metadata": {},
   "outputs": [],
   "source": [
    "mne.viz.set_3d_options(antialias=False)"
   ]
  },
  {
   "cell_type": "code",
   "execution_count": 41,
   "id": "d67d3b3d-f41d-4323-83cb-bb81ab7e0a62",
   "metadata": {},
   "outputs": [
    {
     "name": "stdout",
     "output_type": "stream",
     "text": [
      "Using pyvistaqt 3d backend.\n"
     ]
    }
   ],
   "source": [
    "clim = dict(kind=\"value\", lims=[0.5, 0.7, 0.95])\n",
    "\n",
    "brain = vol_stc.plot_3d(\n",
    "    src=vol_src,\n",
    "    subjects_dir=subjects_dir,\n",
    "    view_layout=\"horizontal\",\n",
    "    views=[\"axial\", \"coronal\", \"sagittal\"],\n",
    "    size=(800, 300),\n",
    "    show_traces=0.4,\n",
    "    clim=clim,\n",
    "    add_data_kwargs=dict(colorbar_kwargs=dict(label_font_size=8)),\n",
    ")\n"
   ]
  },
  {
   "cell_type": "code",
   "execution_count": 42,
   "id": "f785aa3e-46ba-450e-ae5d-0f173ec19449",
   "metadata": {},
   "outputs": [],
   "source": [
    "aseg_file = fr'{subjects_dir}\\fsaverage\\mri\\aparc+aseg.mgz'\n",
    "label_names = mne.get_volume_labels_from_aseg(aseg_file)"
   ]
  },
  {
   "cell_type": "code",
   "execution_count": 43,
   "id": "dc35083c-c602-470c-a4cb-7550afb965ce",
   "metadata": {
    "scrolled": true
   },
   "outputs": [
    {
     "name": "stdout",
     "output_type": "stream",
     "text": [
      "Reading atlas C:\\Users\\CCDM\\mne_data\\MNE-sample-data\\subjects\\fsaverage\\mri\\aparc+aseg.mgz\n",
      "114/114 atlas regions had at least one vertex in the source space\n",
      "Extracting time courses for 114 labels (mode: max)\n",
      "11\n",
      "Active volume regions:\n",
      "Left-Amygdala\n",
      "Right-Inf-Lat-Vent\n",
      "Right-Hippocampus\n",
      "Right-Amygdala\n",
      "ctx-lh-entorhinal\n",
      "ctx-lh-fusiform\n",
      "ctx-lh-parahippocampal\n",
      "ctx-lh-temporalpole\n",
      "ctx-rh-entorhinal\n",
      "ctx-rh-fusiform\n",
      "ctx-rh-inferiortemporal\n"
     ]
    }
   ],
   "source": [
    "stc_to_label = mne.extract_label_time_course(\n",
    "    full_stc_seeg,\n",
    "    (aseg_file, label_names),  \n",
    "    vol_src,\n",
    "    mode='max', \n",
    "    mri_resolution=True, \n",
    "    allow_empty=True \n",
    ")\n",
    "\n",
    "peak_time_idx = np.argmax(np.max(stc_to_label, axis=0))\n",
    "peak_activations = stc_to_label[:, peak_time_idx]\n",
    "\n",
    "active_label_indices = np.where(peak_activations > 0)[0]\n",
    "active_regions = [label_names[i] for i in active_label_indices]\n",
    "\n",
    "regions_seeg = []\n",
    "for region in active_regions:\n",
    "    if ('Unknown' not in region) and ('unknown' not in region) and region != 'Left-Cerebral-White-Matter' and region != 'Right-Cerebral-White-Matter':\n",
    "        regions_seeg.append(region)\n",
    "\n",
    "print(len(regions_seeg))\n",
    "print(\"Active volume regions:\")\n",
    "for region in regions_seeg:\n",
    "    print(region)"
   ]
  },
  {
   "cell_type": "code",
   "execution_count": 44,
   "id": "d4c5950b-6225-4e64-9590-2e6fac586941",
   "metadata": {},
   "outputs": [
    {
     "name": "stdout",
     "output_type": "stream",
     "text": [
      "    Smoothing by a factor of 0.9\n"
     ]
    }
   ],
   "source": [
    "brain = mne.viz.Brain(\n",
    "    \"fsaverage\",\n",
    "    alpha=0.1,\n",
    "    cortex=\"low_contrast\",\n",
    "    subjects_dir=subjects_dir\n",
    ")\n",
    "brain.add_volume_labels(aseg=\"aparc+aseg\", labels=regions_seeg)"
   ]
  },
  {
   "cell_type": "markdown",
   "id": "18302a11-5615-48c2-a8b8-3ddc83324d47",
   "metadata": {},
   "source": [
    "## Forward Model"
   ]
  },
  {
   "cell_type": "code",
   "execution_count": 45,
   "id": "576f36c2-4d4e-4a64-b96c-00f9ab62686c",
   "metadata": {},
   "outputs": [
    {
     "name": "stdout",
     "output_type": "stream",
     "text": [
      "    Reading a source space...\n",
      "    [done]\n",
      "    1 source spaces read\n",
      "Loading surfaces...\n",
      "\n",
      "Loading the solution matrix...\n",
      "\n",
      "Three-layer model surfaces loaded.\n",
      "Loaded linear collocation BEM solution from C:\\Users\\CCDM\\mne_data\\MNE-sample-data\\subjects\\fsaverage\\bem\\fsaverage-5120-5120-5120-bem-sol.fif\n"
     ]
    }
   ],
   "source": [
    "src_vol = mne.read_source_spaces(subjects_dir / \"fsaverage\" / \"bem\" / \"fsaverage-vol-5-src.fif\")\n",
    "bem = mne.read_bem_solution(subjects_dir / \"fsaverage\" / \"bem\" / \"fsaverage-5120-5120-5120-bem-sol.fif\")"
   ]
  },
  {
   "cell_type": "code",
   "execution_count": 46,
   "id": "018365fa-67ea-43f3-9b84-da05c4a35868",
   "metadata": {
    "scrolled": true
   },
   "outputs": [
    {
     "data": {
      "text/plain": [
       "(14629,)"
      ]
     },
     "execution_count": 46,
     "metadata": {},
     "output_type": "execute_result"
    }
   ],
   "source": [
    "src_vol[0]['vertno'].shape"
   ]
  },
  {
   "cell_type": "code",
   "execution_count": 47,
   "id": "faaa517c-1543-4aaf-ab62-887ffc90e06e",
   "metadata": {},
   "outputs": [
    {
     "data": {
      "text/html": [
       "<script type=\"text/javascript\">\n",
       "    const toggleVisibility = (className) => {\n",
       "\n",
       "  const elements = document.querySelectorAll(`.${className}`)\n",
       "\n",
       "  elements.forEach(element => {\n",
       "    if (element.classList.contains('repr-section-header')) {\n",
       "      // Don't collapse the section header row.\n",
       "       return\n",
       "    }\n",
       "    if (element.classList.contains('repr-element-collapsed')) {\n",
       "      // Force a reflow to ensure the display change takes effect before removing the class\n",
       "      element.classList.remove('repr-element-collapsed')\n",
       "      element.offsetHeight // This forces the browser to recalculate layout\n",
       "      element.classList.remove('repr-element-faded')\n",
       "    } else {\n",
       "      // Start transition to hide the element\n",
       "      element.classList.add('repr-element-faded')\n",
       "      element.addEventListener('transitionend', handler = (e) => {\n",
       "        if (e.propertyName === 'opacity' && getComputedStyle(element).opacity === '0.2') {\n",
       "          element.classList.add('repr-element-collapsed')\n",
       "          element.removeEventListener('transitionend', handler)\n",
       "        }\n",
       "      });\n",
       "    }\n",
       "  });\n",
       "\n",
       "  // Take care of button (adjust caret)\n",
       "  const button = document.querySelectorAll(`.repr-section-header.${className} > th.repr-section-toggle-col > button`)[0]\n",
       "  button.classList.toggle('collapsed')\n",
       "\n",
       "  // Take care of the tooltip of the section header row\n",
       "  const sectionHeaderRow = document.querySelectorAll(`tr.repr-section-header.${className}`)[0]\n",
       "  sectionHeaderRow.classList.toggle('collapsed')\n",
       "  sectionHeaderRow.title = sectionHeaderRow.title === 'Hide section' ? 'Show section' : 'Hide section'\n",
       "}\n",
       "</script>\n",
       "\n",
       "<style type=\"text/css\">\n",
       "    table.repr.table.table-hover.table-striped.table-sm.table-responsive.small {\n",
       "  /* Don't make rows wider than they need to be. */\n",
       "  display: inline;\n",
       "}\n",
       "\n",
       "table > tbody > tr.repr-element > td {\n",
       "  /* Apply a tighter layout to the table cells. */\n",
       "  padding-top: 0.1rem;\n",
       "  padding-bottom: 0.1rem;\n",
       "  padding-right: 1rem;\n",
       "}\n",
       "\n",
       "table > tbody > tr > td.repr-section-toggle-col {\n",
       "  /* Remove background and border of the first cell in every row\n",
       "     (this row is only used for the collapse / uncollapse caret)\n",
       "\n",
       "     TODO: Need to find a good solution for VS Code that works in both\n",
       "           light and dark mode. */\n",
       "  border-color: transparent;\n",
       "  --bs-table-accent-bg: transparent;\n",
       "}\n",
       "\n",
       "tr.repr-section-header {\n",
       "  /* Remove stripes from section header rows */\n",
       "  background-color: transparent;\n",
       "  border-color: transparent;\n",
       "  --bs-table-striped-bg: transparent;\n",
       "  cursor: pointer;\n",
       "}\n",
       "\n",
       "tr.repr-section-header > th {\n",
       "  text-align: left !important;\n",
       "  vertical-align: middle;\n",
       "}\n",
       "\n",
       ".repr-element, tr.repr-element > td {\n",
       "  opacity: 1;\n",
       "  text-align: left !important;\n",
       "}\n",
       "\n",
       ".repr-element-faded {\n",
       "  transition: 0.3s ease;\n",
       "  opacity: 0.2;\n",
       "}\n",
       "\n",
       ".repr-element-collapsed {\n",
       "  display: none;\n",
       "}\n",
       "\n",
       "/* Collapse / uncollapse button and the caret it contains. */\n",
       ".repr-section-toggle-col button {\n",
       "  cursor: pointer;\n",
       "  width: 1rem;\n",
       "  background-color: transparent;\n",
       "  border-color: transparent;\n",
       "}\n",
       "\n",
       "span.collapse-uncollapse-caret {\n",
       "  width: 1rem;\n",
       "  height: 1rem;\n",
       "  display: block;\n",
       "  background-repeat: no-repeat;\n",
       "  background-position: left;\n",
       "  background-size: contain;\n",
       "}\n",
       "\n",
       "/* The collapse / uncollapse carets were copied from the free Font Awesome collection and adjusted. */\n",
       "\n",
       "/* Default to black carets for light mode */\n",
       ".repr-section-toggle-col > button.collapsed > span.collapse-uncollapse-caret {\n",
       "  background-image: url('data:image/svg+xml;charset=utf8,<svg xmlns=\"http://www.w3.org/2000/svg\" viewBox=\"0 0 256 512\"><!--!Font Awesome Free 6.5.2 by @fontawesome - https://fontawesome.com License - https://fontawesome.com/license/free Copyright 2024 Fonticons, Inc.--><path fill=\"black\" d=\"M246.6 278.6c12.5-12.5 12.5-32.8 0-45.3l-128-128c-9.2-9.2-22.9-11.9-34.9-6.9s-19.8 16.6-19.8 29.6l0 256c0 12.9 7.8 24.6 19.8 29.6s25.7 2.2 34.9-6.9l128-128z\"/></svg>');\n",
       "}\n",
       "\n",
       ".repr-section-toggle-col\n",
       "  > button:not(.collapsed)\n",
       "  > span.collapse-uncollapse-caret {\n",
       "  background-image: url('data:image/svg+xml;charset=utf8,<svg xmlns=\"http://www.w3.org/2000/svg\" viewBox=\"0 0 320 512\"><!--!Font Awesome Free 6.5.2 by @fontawesome - https://fontawesome.com License - https://fontawesome.com/license/free Copyright 2024 Fonticons, Inc.--><path fill=\"black\" d=\"M137.4 374.6c12.5 12.5 32.8 12.5 45.3 0l128-128c9.2-9.2 11.9-22.9 6.9-34.9s-16.6-19.8-29.6-19.8L32 192c-12.9 0-24.6 7.8-29.6 19.8s-2.2 25.7 6.9 34.9l128 128z\"/></svg>');\n",
       "}\n",
       "\n",
       "/* Use white carets for dark mode */\n",
       "@media (prefers-color-scheme: dark) {\n",
       "  .repr-section-toggle-col > button.collapsed > span.collapse-uncollapse-caret {\n",
       "    background-image: url('data:image/svg+xml;charset=utf8,<svg xmlns=\"http://www.w3.org/2000/svg\" viewBox=\"0 0 256 512\"><!--!Font Awesome Free 6.5.2 by @fontawesome - https://fontawesome.com License - https://fontawesome.com/license/free Copyright 2024 Fonticons, Inc.--><path fill=\"white\" d=\"M246.6 278.6c12.5-12.5 12.5-32.8 0-45.3l-128-128c-9.2-9.2-22.9-11.9-34.9-6.9s-19.8 16.6-19.8 29.6l0 256c0 12.9 7.8 24.6 19.8 29.6s25.7 2.2 34.9-6.9l128-128z\"/></svg>');\n",
       "  }\n",
       "\n",
       "  .repr-section-toggle-col\n",
       "    > button:not(.collapsed)\n",
       "    > span.collapse-uncollapse-caret {\n",
       "    background-image: url('data:image/svg+xml;charset=utf8,<svg xmlns=\"http://www.w3.org/2000/svg\" viewBox=\"0 0 320 512\"><!--!Font Awesome Free 6.5.2 by @fontawesome - https://fontawesome.com License - https://fontawesome.com/license/free Copyright 2024 Fonticons, Inc.--><path fill=\"white\" d=\"M137.4 374.6c12.5 12.5 32.8 12.5 45.3 0l128-128c9.2-9.2 11.9-22.9 6.9-34.9s-16.6-19.8-29.6-19.8L32 192c-12.9 0-24.6 7.8-29.6 19.8s-2.2 25.7 6.9 34.9l128 128z\"/></svg>');\n",
       "  }\n",
       "}\n",
       "\n",
       ".channel-names-btn {\n",
       "  padding: 0;\n",
       "  border: none;\n",
       "  background: none;\n",
       "  text-decoration: underline;\n",
       "  text-decoration-style: dashed;\n",
       "  cursor: pointer;\n",
       "  color: #0d6efd;\n",
       "}\n",
       "\n",
       ".channel-names-btn:hover {\n",
       "  color: #0a58ca;\n",
       "}\n",
       "</style>\n",
       "\n",
       "\n",
       "\n",
       "<table class=\"repr table table-hover table-striped table-sm table-responsive small\">\n",
       "    \n",
       "\n",
       "\n",
       "\n",
       "\n",
       "\n",
       "\n",
       "\n",
       "<tr class=\"repr-section-header general-ca8790ae-d114-4dcd-8cb7-a0223c50a609\"  title=\"Hide section\" \n",
       "    onclick=\"toggleVisibility('general-ca8790ae-d114-4dcd-8cb7-a0223c50a609')\">\n",
       "    <th class=\"repr-section-toggle-col\">\n",
       "        <button>\n",
       "            \n",
       "            <span class=\"collapse-uncollapse-caret\"></span>\n",
       "        </button>\n",
       "    </th>\n",
       "    <th colspan=\"2\">\n",
       "        <strong>General</strong>\n",
       "    </th>\n",
       "</tr>\n",
       "\n",
       "<tr class=\"repr-element general-ca8790ae-d114-4dcd-8cb7-a0223c50a609 \">\n",
       "    <td class=\"repr-section-toggle-col\"></td>\n",
       "    <td>MNE object type</td>\n",
       "    <td>Info</td>\n",
       "</tr>\n",
       "<tr class=\"repr-element general-ca8790ae-d114-4dcd-8cb7-a0223c50a609 \">\n",
       "    <td class=\"repr-section-toggle-col\"></td>\n",
       "    <td>Measurement date</td>\n",
       "    \n",
       "    <td>Unknown</td>\n",
       "    \n",
       "</tr>\n",
       "<tr class=\"repr-element general-ca8790ae-d114-4dcd-8cb7-a0223c50a609 \">\n",
       "    <td class=\"repr-section-toggle-col\"></td>\n",
       "    <td>Participant</td>\n",
       "    \n",
       "    <td>Unknown</td>\n",
       "    \n",
       "</tr>\n",
       "<tr class=\"repr-element general-ca8790ae-d114-4dcd-8cb7-a0223c50a609 \">\n",
       "    <td class=\"repr-section-toggle-col\"></td>\n",
       "    <td>Experimenter</td>\n",
       "    \n",
       "    <td>Unknown</td>\n",
       "    \n",
       "</tr>\n",
       "    \n",
       "\n",
       "\n",
       "\n",
       "\n",
       "\n",
       "\n",
       "\n",
       "<tr class=\"repr-section-header acquisition-aeae692c-19d3-4fac-bb0f-bc18928df683\" \n",
       "    title=\"Hide section\"  onclick=\"toggleVisibility('acquisition-aeae692c-19d3-4fac-bb0f-bc18928df683')\">\n",
       "    <th class=\"repr-section-toggle-col\">\n",
       "        <button>\n",
       "            \n",
       "            <span class=\"collapse-uncollapse-caret\"></span>\n",
       "        </button>\n",
       "    </th>\n",
       "    <th colspan=\"2\">\n",
       "        <strong>Acquisition</strong>\n",
       "    </th>\n",
       "</tr>\n",
       "\n",
       "\n",
       "\n",
       "\n",
       "\n",
       "\n",
       "\n",
       "\n",
       "<tr class=\"repr-element acquisition-aeae692c-19d3-4fac-bb0f-bc18928df683 \">\n",
       "    <td class=\"repr-section-toggle-col\"></td>\n",
       "    <td>Sampling frequency</td>\n",
       "    <td>1000.00 Hz</td>\n",
       "</tr>\n",
       "\n",
       "\n",
       "\n",
       "    \n",
       "\n",
       "\n",
       "\n",
       "\n",
       "\n",
       "\n",
       "\n",
       "<tr class=\"repr-section-header channels-2763b9e0-48b4-4b98-b817-285571e19e09\"  title=\"Hide section\" \n",
       "    onclick=\"toggleVisibility('channels-2763b9e0-48b4-4b98-b817-285571e19e09')\">\n",
       "    <th class=\"repr-section-toggle-col\">\n",
       "        <button>\n",
       "            \n",
       "            <span class=\"collapse-uncollapse-caret\"></span>\n",
       "        </button>\n",
       "    </th>\n",
       "    <th colspan=\"2\">\n",
       "        <strong>Channels</strong>\n",
       "    </th>\n",
       "</tr>\n",
       "\n",
       "\n",
       "<tr class=\"repr-element channels-2763b9e0-48b4-4b98-b817-285571e19e09 \">\n",
       "    <td class=\"repr-section-toggle-col\"></td>\n",
       "    <td>EEG</td>\n",
       "    <td>\n",
       "        <button class=\"channel-names-btn\" onclick=\"alert('Good EEG:\\n\\nFp1, Fpz, Fp2, AF9, AF7, AF5, AF3, AF1, AFz, AF2, AF4, AF6, AF8, AF10, F9, F7, F5, F3, F1, Fz, F2, F4, F6, F8, F10, FT9, FT7, FC5, FC3, FC1, FCz, FC2, FC4, FC6, FT8, FT10, T9, T7, C5, C3, C1, Cz, C2, C4, C6, T8, T10, TP9, TP7, CP5, CP3, CP1, CPz, CP2, CP4, CP6, TP8, TP10, P9, P7, P5, P3, P1, Pz')\" title=\"(Click to open in popup)&#13;&#13;Fp1, Fpz, Fp2, AF9, AF7, AF5, AF3, AF1, AFz, AF2, AF4, AF6, AF8, AF10, F9, F7, F5, F3, F1, Fz, F2, F4, F6, F8, F10, FT9, FT7, FC5, FC3, FC1, FCz, FC2, FC4, FC6, FT8, FT10, T9, T7, C5, C3, C1, Cz, C2, C4, C6, T8, T10, TP9, TP7, CP5, CP3, CP1, CPz, CP2, CP4, CP6, TP8, TP10, P9, P7, P5, P3, P1, Pz\">\n",
       "            64\n",
       "        </button>\n",
       "\n",
       "        \n",
       "    </td>\n",
       "</tr>\n",
       "\n",
       "\n",
       "<tr class=\"repr-element channels-2763b9e0-48b4-4b98-b817-285571e19e09 \">\n",
       "    <td class=\"repr-section-toggle-col\"></td>\n",
       "    <td>Head & sensor digitization</td>\n",
       "    \n",
       "    <td>67 points</td>\n",
       "    \n",
       "</tr>\n",
       "    \n",
       "\n",
       "\n",
       "\n",
       "\n",
       "\n",
       "\n",
       "\n",
       "<tr class=\"repr-section-header filters-d1222c94-e54d-4c6a-8a8b-90d437f45e3c\"  title=\"Hide section\" \n",
       "    onclick=\"toggleVisibility('filters-d1222c94-e54d-4c6a-8a8b-90d437f45e3c')\">\n",
       "    <th class=\"repr-section-toggle-col\">\n",
       "        <button>\n",
       "            \n",
       "            <span class=\"collapse-uncollapse-caret\"></span>\n",
       "        </button>\n",
       "    </th>\n",
       "    <th colspan=\"2\">\n",
       "        <strong>Filters</strong>\n",
       "    </th>\n",
       "</tr>\n",
       "\n",
       "<tr class=\"repr-element filters-d1222c94-e54d-4c6a-8a8b-90d437f45e3c \">\n",
       "    <td class=\"repr-section-toggle-col\"></td>\n",
       "    <td>Highpass</td>\n",
       "    <td>0.00 Hz</td>\n",
       "</tr>\n",
       "\n",
       "\n",
       "<tr class=\"repr-element filters-d1222c94-e54d-4c6a-8a8b-90d437f45e3c \">\n",
       "    <td class=\"repr-section-toggle-col\"></td>\n",
       "    <td>Lowpass</td>\n",
       "    <td>500.00 Hz</td>\n",
       "</tr>\n",
       "\n",
       "\n",
       "</table>"
      ],
      "text/plain": [
       "<Info | 8 non-empty values\n",
       " bads: []\n",
       " ch_names: Fp1, Fpz, Fp2, AF9, AF7, AF5, AF3, AF1, AFz, AF2, AF4, AF6, AF8, ...\n",
       " chs: 64 EEG\n",
       " custom_ref_applied: False\n",
       " dig: 67 items (3 Cardinal, 64 EEG)\n",
       " highpass: 0.0 Hz\n",
       " lowpass: 500.0 Hz\n",
       " meas_date: unspecified\n",
       " nchan: 64\n",
       " projs: []\n",
       " sfreq: 1000.0 Hz\n",
       ">"
      ]
     },
     "execution_count": 47,
     "metadata": {},
     "output_type": "execute_result"
    }
   ],
   "source": [
    "montage = mne.channels.make_standard_montage('standard_1020')\n",
    "ch_names = montage.ch_names[:64]\n",
    "info = mne.create_info(ch_names=ch_names, sfreq=1000, ch_types='eeg')\n",
    "info.set_montage(montage)"
   ]
  },
  {
   "cell_type": "code",
   "execution_count": 48,
   "id": "1480c7f6-2f4d-4612-a48e-6f441b23c1dd",
   "metadata": {},
   "outputs": [
    {
     "name": "stdout",
     "output_type": "stream",
     "text": [
      "Source space          : <SourceSpaces: [<volume, shape=(33, 39, 34), n_used=14629>] MRI (surface RAS) coords, subject 'fsaverage', ~75.3 MB>\n",
      "MRI -> head transform : C:\\Users\\CCDM\\AppData\\Roaming\\Python\\Python312\\site-packages\\mne\\data\\fsaverage\\fsaverage-trans.fif\n",
      "Measurement data      : instance of Info\n",
      "Conductor model   : instance of ConductorModel\n",
      "Accurate field computations\n",
      "Do computations in head coordinates\n",
      "Free source orientations\n",
      "\n",
      "Read 1 source spaces a total of 14629 active source locations\n",
      "\n",
      "Coordinate transformation: MRI (surface RAS) -> head\n",
      "    0.999994 0.003552 0.000202      -1.76 mm\n",
      "    -0.003558 0.998389 0.056626      31.09 mm\n",
      "    -0.000001 -0.056626 0.998395      39.60 mm\n",
      "    0.000000 0.000000 0.000000       1.00\n",
      "\n",
      "Read  64 EEG channels from info\n",
      "Head coordinate coil definitions created.\n",
      "Source spaces are now in head coordinates.\n",
      "\n",
      "Employing the head->MRI coordinate transform with the BEM model.\n",
      "BEM model instance of ConductorModel is now set up\n",
      "\n",
      "Source spaces are in head coordinates.\n",
      "Checking that the sources are inside the surface (will take a few...)\n",
      "Checking surface interior status for 14629 points...\n",
      "    Found  3644/14629 points inside  an interior sphere of radius   47.7 mm\n",
      "    Found     0/14629 points outside an exterior sphere of radius   98.3 mm\n",
      "    Found     0/10985 points outside using surface Qhull\n",
      "    Found     0/10985 points outside using solid angles\n",
      "    Total 14629/14629 points inside the surface\n",
      "Interior check completed in 4379.6 ms\n",
      "\n",
      "Setting up for EEG...\n",
      "Computing EEG at 14629 source locations (free orientations)...\n",
      "\n",
      "Finished.\n"
     ]
    }
   ],
   "source": [
    "fwd_vol = mne.make_forward_solution(\n",
    "    info=info,\n",
    "    trans='fsaverage',  \n",
    "    src=src_vol,\n",
    "    bem=bem,\n",
    "    eeg=True,\n",
    "    meg=False\n",
    ")"
   ]
  },
  {
   "cell_type": "code",
   "execution_count": 49,
   "id": "2c1b8dd8-df86-454f-b695-8d9e96b7c252",
   "metadata": {},
   "outputs": [
    {
     "data": {
      "text/html": [
       "<script type=\"text/javascript\">\n",
       "    const toggleVisibility = (className) => {\n",
       "\n",
       "  const elements = document.querySelectorAll(`.${className}`)\n",
       "\n",
       "  elements.forEach(element => {\n",
       "    if (element.classList.contains('repr-section-header')) {\n",
       "      // Don't collapse the section header row.\n",
       "       return\n",
       "    }\n",
       "    if (element.classList.contains('repr-element-collapsed')) {\n",
       "      // Force a reflow to ensure the display change takes effect before removing the class\n",
       "      element.classList.remove('repr-element-collapsed')\n",
       "      element.offsetHeight // This forces the browser to recalculate layout\n",
       "      element.classList.remove('repr-element-faded')\n",
       "    } else {\n",
       "      // Start transition to hide the element\n",
       "      element.classList.add('repr-element-faded')\n",
       "      element.addEventListener('transitionend', handler = (e) => {\n",
       "        if (e.propertyName === 'opacity' && getComputedStyle(element).opacity === '0.2') {\n",
       "          element.classList.add('repr-element-collapsed')\n",
       "          element.removeEventListener('transitionend', handler)\n",
       "        }\n",
       "      });\n",
       "    }\n",
       "  });\n",
       "\n",
       "  // Take care of button (adjust caret)\n",
       "  const button = document.querySelectorAll(`.repr-section-header.${className} > th.repr-section-toggle-col > button`)[0]\n",
       "  button.classList.toggle('collapsed')\n",
       "\n",
       "  // Take care of the tooltip of the section header row\n",
       "  const sectionHeaderRow = document.querySelectorAll(`tr.repr-section-header.${className}`)[0]\n",
       "  sectionHeaderRow.classList.toggle('collapsed')\n",
       "  sectionHeaderRow.title = sectionHeaderRow.title === 'Hide section' ? 'Show section' : 'Hide section'\n",
       "}\n",
       "</script>\n",
       "\n",
       "<style type=\"text/css\">\n",
       "    table.repr.table.table-hover.table-striped.table-sm.table-responsive.small {\n",
       "  /* Don't make rows wider than they need to be. */\n",
       "  display: inline;\n",
       "}\n",
       "\n",
       "table > tbody > tr.repr-element > td {\n",
       "  /* Apply a tighter layout to the table cells. */\n",
       "  padding-top: 0.1rem;\n",
       "  padding-bottom: 0.1rem;\n",
       "  padding-right: 1rem;\n",
       "}\n",
       "\n",
       "table > tbody > tr > td.repr-section-toggle-col {\n",
       "  /* Remove background and border of the first cell in every row\n",
       "     (this row is only used for the collapse / uncollapse caret)\n",
       "\n",
       "     TODO: Need to find a good solution for VS Code that works in both\n",
       "           light and dark mode. */\n",
       "  border-color: transparent;\n",
       "  --bs-table-accent-bg: transparent;\n",
       "}\n",
       "\n",
       "tr.repr-section-header {\n",
       "  /* Remove stripes from section header rows */\n",
       "  background-color: transparent;\n",
       "  border-color: transparent;\n",
       "  --bs-table-striped-bg: transparent;\n",
       "  cursor: pointer;\n",
       "}\n",
       "\n",
       "tr.repr-section-header > th {\n",
       "  text-align: left !important;\n",
       "  vertical-align: middle;\n",
       "}\n",
       "\n",
       ".repr-element, tr.repr-element > td {\n",
       "  opacity: 1;\n",
       "  text-align: left !important;\n",
       "}\n",
       "\n",
       ".repr-element-faded {\n",
       "  transition: 0.3s ease;\n",
       "  opacity: 0.2;\n",
       "}\n",
       "\n",
       ".repr-element-collapsed {\n",
       "  display: none;\n",
       "}\n",
       "\n",
       "/* Collapse / uncollapse button and the caret it contains. */\n",
       ".repr-section-toggle-col button {\n",
       "  cursor: pointer;\n",
       "  width: 1rem;\n",
       "  background-color: transparent;\n",
       "  border-color: transparent;\n",
       "}\n",
       "\n",
       "span.collapse-uncollapse-caret {\n",
       "  width: 1rem;\n",
       "  height: 1rem;\n",
       "  display: block;\n",
       "  background-repeat: no-repeat;\n",
       "  background-position: left;\n",
       "  background-size: contain;\n",
       "}\n",
       "\n",
       "/* The collapse / uncollapse carets were copied from the free Font Awesome collection and adjusted. */\n",
       "\n",
       "/* Default to black carets for light mode */\n",
       ".repr-section-toggle-col > button.collapsed > span.collapse-uncollapse-caret {\n",
       "  background-image: url('data:image/svg+xml;charset=utf8,<svg xmlns=\"http://www.w3.org/2000/svg\" viewBox=\"0 0 256 512\"><!--!Font Awesome Free 6.5.2 by @fontawesome - https://fontawesome.com License - https://fontawesome.com/license/free Copyright 2024 Fonticons, Inc.--><path fill=\"black\" d=\"M246.6 278.6c12.5-12.5 12.5-32.8 0-45.3l-128-128c-9.2-9.2-22.9-11.9-34.9-6.9s-19.8 16.6-19.8 29.6l0 256c0 12.9 7.8 24.6 19.8 29.6s25.7 2.2 34.9-6.9l128-128z\"/></svg>');\n",
       "}\n",
       "\n",
       ".repr-section-toggle-col\n",
       "  > button:not(.collapsed)\n",
       "  > span.collapse-uncollapse-caret {\n",
       "  background-image: url('data:image/svg+xml;charset=utf8,<svg xmlns=\"http://www.w3.org/2000/svg\" viewBox=\"0 0 320 512\"><!--!Font Awesome Free 6.5.2 by @fontawesome - https://fontawesome.com License - https://fontawesome.com/license/free Copyright 2024 Fonticons, Inc.--><path fill=\"black\" d=\"M137.4 374.6c12.5 12.5 32.8 12.5 45.3 0l128-128c9.2-9.2 11.9-22.9 6.9-34.9s-16.6-19.8-29.6-19.8L32 192c-12.9 0-24.6 7.8-29.6 19.8s-2.2 25.7 6.9 34.9l128 128z\"/></svg>');\n",
       "}\n",
       "\n",
       "/* Use white carets for dark mode */\n",
       "@media (prefers-color-scheme: dark) {\n",
       "  .repr-section-toggle-col > button.collapsed > span.collapse-uncollapse-caret {\n",
       "    background-image: url('data:image/svg+xml;charset=utf8,<svg xmlns=\"http://www.w3.org/2000/svg\" viewBox=\"0 0 256 512\"><!--!Font Awesome Free 6.5.2 by @fontawesome - https://fontawesome.com License - https://fontawesome.com/license/free Copyright 2024 Fonticons, Inc.--><path fill=\"white\" d=\"M246.6 278.6c12.5-12.5 12.5-32.8 0-45.3l-128-128c-9.2-9.2-22.9-11.9-34.9-6.9s-19.8 16.6-19.8 29.6l0 256c0 12.9 7.8 24.6 19.8 29.6s25.7 2.2 34.9-6.9l128-128z\"/></svg>');\n",
       "  }\n",
       "\n",
       "  .repr-section-toggle-col\n",
       "    > button:not(.collapsed)\n",
       "    > span.collapse-uncollapse-caret {\n",
       "    background-image: url('data:image/svg+xml;charset=utf8,<svg xmlns=\"http://www.w3.org/2000/svg\" viewBox=\"0 0 320 512\"><!--!Font Awesome Free 6.5.2 by @fontawesome - https://fontawesome.com License - https://fontawesome.com/license/free Copyright 2024 Fonticons, Inc.--><path fill=\"white\" d=\"M137.4 374.6c12.5 12.5 32.8 12.5 45.3 0l128-128c9.2-9.2 11.9-22.9 6.9-34.9s-16.6-19.8-29.6-19.8L32 192c-12.9 0-24.6 7.8-29.6 19.8s-2.2 25.7 6.9 34.9l128 128z\"/></svg>');\n",
       "  }\n",
       "}\n",
       "\n",
       ".channel-names-btn {\n",
       "  padding: 0;\n",
       "  border: none;\n",
       "  background: none;\n",
       "  text-decoration: underline;\n",
       "  text-decoration-style: dashed;\n",
       "  cursor: pointer;\n",
       "  color: #0d6efd;\n",
       "}\n",
       "\n",
       ".channel-names-btn:hover {\n",
       "  color: #0a58ca;\n",
       "}\n",
       "</style>\n",
       "\n",
       "<table class=\"table table-hover table-striped table-sm table-responsive small\">\n",
       "    \n",
       "    \n",
       "    <tr class=\"repr-element  \">\n",
       "        <th>EEG</th>\n",
       "        <td>\n",
       "            <button class=\"channel-names-btn\"\n",
       "                onclick=\"alert('Good EEG:\\n\\nFp1, Fpz, Fp2, AF9, AF7, AF5, AF3, AF1, AFz, AF2, AF4, AF6, AF8, AF10, F9, F7, F5, F3, F1, Fz, F2, F4, F6, F8, F10, FT9, FT7, FC5, FC3, FC1, FCz, FC2, FC4, FC6, FT8, FT10, T9, T7, C5, C3, C1, Cz, C2, C4, C6, T8, T10, TP9, TP7, CP5, CP3, CP1, CPz, CP2, CP4, CP6, TP8, TP10, P9, P7, P5, P3, P1, Pz')\"\n",
       "                title=\"Show good channel names\">\n",
       "                64\n",
       "            </button>\n",
       "\n",
       "            \n",
       "        </td>\n",
       "    </tr>\n",
       "    \n",
       "\n",
       "    <tr>\n",
       "        <th>Source space</th>\n",
       "        <td>Volume with 14629 grid points</td>\n",
       "    </tr>\n",
       "    <tr>\n",
       "        <th>Source orientation</th>\n",
       "        <td>Free</td>\n",
       "    </tr>\n",
       "</table>"
      ],
      "text/plain": [
       "<Forward | MEG channels: 0 | EEG channels: 64 | Source space: Volume with 14629 grid points | Source orientation: Free>"
      ]
     },
     "execution_count": 49,
     "metadata": {},
     "output_type": "execute_result"
    }
   ],
   "source": [
    "fwd_vol"
   ]
  },
  {
   "cell_type": "code",
   "execution_count": 50,
   "id": "c41cde70-af92-4dc4-a35c-0a443acf0a04",
   "metadata": {},
   "outputs": [
    {
     "data": {
      "text/plain": [
       "(64, 43887)"
      ]
     },
     "execution_count": 50,
     "metadata": {},
     "output_type": "execute_result"
    }
   ],
   "source": [
    "fwd_vol['sol']['data'].shape"
   ]
  },
  {
   "cell_type": "code",
   "execution_count": 51,
   "id": "e0b69baf-cfd1-41de-beb6-a101f42a058a",
   "metadata": {},
   "outputs": [
    {
     "data": {
      "text/plain": [
       "14629.0"
      ]
     },
     "execution_count": 51,
     "metadata": {},
     "output_type": "execute_result"
    }
   ],
   "source": [
    "43887 / 3"
   ]
  },
  {
   "cell_type": "code",
   "execution_count": 52,
   "id": "9eb092a9-1c73-4790-a69a-ad5ccdb421d1",
   "metadata": {},
   "outputs": [
    {
     "data": {
      "text/plain": [
       "(14629,)"
      ]
     },
     "execution_count": 52,
     "metadata": {},
     "output_type": "execute_result"
    }
   ],
   "source": [
    "src_vol[0]['vertno'].shape"
   ]
  },
  {
   "cell_type": "code",
   "execution_count": 53,
   "id": "de96eac3-eee2-4523-a130-f0695b42190d",
   "metadata": {},
   "outputs": [],
   "source": [
    "gain = fwd_vol['sol']['data']\n",
    "n_sources = gain.shape[1] // 3\n",
    "gain_fixed = np.zeros((gain.shape[0], n_sources))\n",
    "\n",
    "for i in range(n_sources):\n",
    "    gx = gain[:, 3*i + 0]\n",
    "    gy = gain[:, 3*i + 1]\n",
    "    gz = gain[:, 3*i + 2]\n",
    "    gain_fixed[:, i] = np.sqrt(gx**2 + gy**2 + gz**2)"
   ]
  },
  {
   "cell_type": "code",
   "execution_count": 54,
   "id": "83f6f65c-4999-435a-a255-c6e66648b563",
   "metadata": {},
   "outputs": [
    {
     "data": {
      "text/plain": [
       "(64, 14629)"
      ]
     },
     "execution_count": 54,
     "metadata": {},
     "output_type": "execute_result"
    }
   ],
   "source": [
    "gain_fixed.shape"
   ]
  },
  {
   "cell_type": "code",
   "execution_count": 55,
   "id": "b068293f-cfea-4f45-878f-e0fde221965e",
   "metadata": {},
   "outputs": [
    {
     "data": {
      "text/plain": [
       "array([[ 25.66122137,  26.26112968,  26.11235142, ...,  60.94318054,\n",
       "         58.45786092,  57.82289234],\n",
       "       [ 25.8924623 ,  25.65646267,  27.20036452, ...,  60.99349681,\n",
       "         60.31826157,  61.39757567],\n",
       "       [ 27.17136452,  26.29430384,  28.64182359, ...,  58.0100535 ,\n",
       "         59.05480123,  61.60677049],\n",
       "       ...,\n",
       "       [ 41.82768958,  37.5309054 ,  43.7187873 , ...,  93.2850517 ,\n",
       "         91.41974824,  92.13214515],\n",
       "       [ 35.18164841,  32.71404373,  35.33556244, ..., 124.17134565,\n",
       "        123.80726169, 124.84835877],\n",
       "       [ 33.20345408,  32.72126499,  31.47880338, ..., 142.07277228,\n",
       "        142.46080405, 143.65414271]])"
      ]
     },
     "execution_count": 55,
     "metadata": {},
     "output_type": "execute_result"
    }
   ],
   "source": [
    "gain_fixed"
   ]
  },
  {
   "cell_type": "code",
   "execution_count": 76,
   "id": "6410784f-60b3-4672-b4b2-e3c1854aac9e",
   "metadata": {},
   "outputs": [
    {
     "data": {
      "text/plain": [
       "(14629, 1)"
      ]
     },
     "execution_count": 76,
     "metadata": {},
     "output_type": "execute_result"
    }
   ],
   "source": [
    "full_data.shape"
   ]
  },
  {
   "cell_type": "code",
   "execution_count": 80,
   "id": "2b393bba-49b9-40ea-8677-27fa76bb8b4f",
   "metadata": {
    "scrolled": true
   },
   "outputs": [
    {
     "name": "stdout",
     "output_type": "stream",
     "text": [
      "[0.20603491]\n",
      "[0.27052369]\n",
      "[0.15411471]\n",
      "[0.23236908]\n",
      "[0.17925187]\n",
      "[0.23042394]\n",
      "[0.3]\n",
      "[0.18389027]\n"
     ]
    }
   ],
   "source": [
    "for elem in full_data:\n",
    "    if elem != [0]:\n",
    "        print(elem / 10)"
   ]
  },
  {
   "cell_type": "code",
   "execution_count": 116,
   "id": "d48d3776-67e8-45d5-8d04-ca342633e21c",
   "metadata": {},
   "outputs": [],
   "source": [
    "source_data = full_data * (10 ** (-10)) / 3 \n",
    "# a completely arbitrary coefficient with does not set the entire brain ablaze"
   ]
  },
  {
   "cell_type": "code",
   "execution_count": 117,
   "id": "54b6f494-c54d-4b64-940e-3cb8831df776",
   "metadata": {},
   "outputs": [],
   "source": [
    "sensor_data = gain_fixed @ source_data"
   ]
  },
  {
   "cell_type": "code",
   "execution_count": 118,
   "id": "f1ff1deb-92a7-4341-811a-2e1842c015db",
   "metadata": {
    "scrolled": true
   },
   "outputs": [
    {
     "data": {
      "text/plain": [
       "array([[5.24819373e-08],\n",
       "       [5.48613412e-08],\n",
       "       [5.57025599e-08],\n",
       "       [4.67284953e-08],\n",
       "       [4.98904440e-08],\n",
       "       [5.04174479e-08],\n",
       "       [4.97908152e-08],\n",
       "       [4.91171030e-08],\n",
       "       [4.96414954e-08],\n",
       "       [5.09866475e-08],\n",
       "       [5.33206227e-08],\n",
       "       [5.55509344e-08],\n",
       "       [5.58143061e-08],\n",
       "       [5.13303166e-08],\n",
       "       [4.67298754e-08],\n",
       "       [4.81891281e-08],\n",
       "       [4.57763134e-08],\n",
       "       [4.22926260e-08],\n",
       "       [4.01278686e-08],\n",
       "       [4.01646204e-08],\n",
       "       [4.27347443e-08],\n",
       "       [4.75657201e-08],\n",
       "       [5.31008459e-08],\n",
       "       [5.64040833e-08],\n",
       "       [5.35085732e-08],\n",
       "       [4.87608420e-08],\n",
       "       [4.81079364e-08],\n",
       "       [4.01782218e-08],\n",
       "       [3.40355895e-08],\n",
       "       [3.06689459e-08],\n",
       "       [3.03998532e-08],\n",
       "       [3.32645567e-08],\n",
       "       [3.91613628e-08],\n",
       "       [4.80152175e-08],\n",
       "       [5.85125807e-08],\n",
       "       [5.75449737e-08],\n",
       "       [5.07704379e-08],\n",
       "       [4.88312802e-08],\n",
       "       [3.68369495e-08],\n",
       "       [2.85998497e-08],\n",
       "       [2.44819674e-08],\n",
       "       [2.39043466e-08],\n",
       "       [2.65961804e-08],\n",
       "       [3.29689318e-08],\n",
       "       [4.43798136e-08],\n",
       "       [6.00703907e-08],\n",
       "       [6.02321482e-08],\n",
       "       [4.94700715e-08],\n",
       "       [4.72547901e-08],\n",
       "       [3.61682134e-08],\n",
       "       [2.80867449e-08],\n",
       "       [2.39307840e-08],\n",
       "       [2.31596773e-08],\n",
       "       [2.55176402e-08],\n",
       "       [3.14201518e-08],\n",
       "       [4.19010809e-08],\n",
       "       [5.59436402e-08],\n",
       "       [5.68442927e-08],\n",
       "       [4.82287602e-08],\n",
       "       [4.43891400e-08],\n",
       "       [3.71502206e-08],\n",
       "       [3.12532687e-08],\n",
       "       [2.77292327e-08],\n",
       "       [2.68650268e-08]])"
      ]
     },
     "execution_count": 118,
     "metadata": {},
     "output_type": "execute_result"
    }
   ],
   "source": [
    "sensor_data"
   ]
  },
  {
   "cell_type": "code",
   "execution_count": 119,
   "id": "449c307b-73b5-4081-a356-bf2b64959541",
   "metadata": {},
   "outputs": [],
   "source": [
    "evoked = mne.EvokedArray(sensor_data, info=info, tmin=0)"
   ]
  },
  {
   "cell_type": "code",
   "execution_count": 70,
   "id": "eb7e9224-7592-483f-85de-a0de79b6b0ce",
   "metadata": {},
   "outputs": [],
   "source": [
    "from mne import make_ad_hoc_cov\n",
    "noise_cov = make_ad_hoc_cov(info)"
   ]
  },
  {
   "cell_type": "code",
   "execution_count": 71,
   "id": "00c882b3-9f1a-4395-9579-9fbd128cc71c",
   "metadata": {},
   "outputs": [
    {
     "name": "stdout",
     "output_type": "stream",
     "text": [
      "Computing inverse operator with 64 channels.\n",
      "    64 out of 64 channels remain after picking\n",
      "Selected 64 channels\n",
      "Creating the depth weighting matrix...\n",
      "    64 EEG channels\n",
      "    limit = 14630/14629 = 3.882442\n",
      "    scale = 61579.2 exp = 0.8\n",
      "Whitening the forward solution.\n",
      "Computing rank from covariance with rank=None\n",
      "    Using tolerance 5.7e-18 (2.2e-16 eps * 64 dim * 0.0004  max singular value)\n",
      "    Estimated rank (eeg): 64\n",
      "    EEG: rank 64 computed from 64 data channels with 0 projectors\n",
      "    Setting small EEG eigenvalues to zero (without PCA)\n",
      "Creating the source covariance matrix\n",
      "Adjusting source covariance matrix.\n",
      "Computing SVD of whitened and weighted lead field matrix.\n"
     ]
    },
    {
     "name": "stderr",
     "output_type": "stream",
     "text": [
      "C:\\Users\\CCDM\\AppData\\Local\\Temp\\ipykernel_5172\\2053878520.py:1: RuntimeWarning: No average EEG reference present in info[\"projs\"], covariance may be adversely affected. Consider recomputing covariance using with an average eeg reference projector added.\n",
      "  inverse_operator = mne.minimum_norm.make_inverse_operator(info, fwd_vol, noise_cov=noise_cov)\n",
      "C:\\Users\\CCDM\\AppData\\Local\\Temp\\ipykernel_5172\\2053878520.py:1: RuntimeWarning: No average EEG reference present in info[\"projs\"], covariance may be adversely affected. Consider recomputing covariance using with an average eeg reference projector added.\n",
      "  inverse_operator = mne.minimum_norm.make_inverse_operator(info, fwd_vol, noise_cov=noise_cov)\n"
     ]
    },
    {
     "name": "stdout",
     "output_type": "stream",
     "text": [
      "    largest singular value = 4.72127\n",
      "    scaling factor to adjust the trace = 5.96068e+22 (nchan = 64 nzero = 0)\n"
     ]
    }
   ],
   "source": [
    "inverse_operator = mne.minimum_norm.make_inverse_operator(info, fwd_vol, noise_cov=noise_cov)"
   ]
  },
  {
   "cell_type": "code",
   "execution_count": 120,
   "id": "394cc210-5794-4b93-a81d-5fa2f4860998",
   "metadata": {},
   "outputs": [
    {
     "name": "stdout",
     "output_type": "stream",
     "text": [
      "EEG channel type selected for re-referencing\n",
      "Adding average EEG reference projection.\n",
      "1 projection items deactivated\n",
      "Average reference projection was added, but has not been applied yet. Use the apply_proj method to apply it.\n",
      "Preparing the inverse operator for use...\n",
      "    Scaled noise and source covariance from nave = 1 to nave = 1\n",
      "    Created the regularized inverter\n",
      "    The projection vectors do not apply to these channels.\n",
      "    Created the whitener using a noise covariance matrix with rank 64 (0 small eigenvalues omitted)\n",
      "    Computing noise-normalization factors (dSPM)...\n",
      "[done]\n",
      "Applying inverse operator to \"\"...\n",
      "    Picked 64 channels from the data\n",
      "    Computing inverse...\n",
      "    Eigenleads need to be weighted ...\n",
      "    Computing residual...\n",
      "    Explained  97.5% variance\n",
      "    Combining the current components...\n",
      "    dSPM...\n",
      "[done]\n"
     ]
    }
   ],
   "source": [
    "snr = 3.0\n",
    "lambda2 = 1.0 / snr ** 2\n",
    "evoked.set_eeg_reference(projection=True)\n",
    "stc_cortex = mne.minimum_norm.apply_inverse(evoked, inverse_operator, lambda2=lambda2, method='dSPM')"
   ]
  },
  {
   "cell_type": "code",
   "execution_count": 121,
   "id": "7c37c700-a7fa-465f-bbc4-a520f266fc4f",
   "metadata": {},
   "outputs": [
    {
     "data": {
      "text/plain": [
       "array([[0.34493656],\n",
       "       [0.34209918],\n",
       "       [0.34913104],\n",
       "       ...,\n",
       "       [0.06893157],\n",
       "       [0.06417938],\n",
       "       [0.06248325]])"
      ]
     },
     "execution_count": 121,
     "metadata": {},
     "output_type": "execute_result"
    }
   ],
   "source": [
    "stc_cortex.data"
   ]
  },
  {
   "cell_type": "code",
   "execution_count": 122,
   "id": "23713645-3923-4cce-9975-d4934bb2a49f",
   "metadata": {},
   "outputs": [],
   "source": [
    "brain = stc_cortex.plot_3d(\n",
    "    src=vol_src,\n",
    "    subjects_dir=subjects_dir,\n",
    "    view_layout=\"horizontal\",\n",
    "    views=[\"axial\", \"coronal\", \"sagittal\"],\n",
    "    size=(800, 300),\n",
    "    show_traces=0.4,\n",
    "    clim=clim,\n",
    "    add_data_kwargs=dict(colorbar_kwargs=dict(label_font_size=8)),\n",
    ")"
   ]
  },
  {
   "cell_type": "markdown",
   "id": "3eff1903-3e82-4af1-97b5-106166007e89",
   "metadata": {},
   "source": [
    "## MEG IZ"
   ]
  },
  {
   "cell_type": "code",
   "execution_count": 752,
   "id": "655651cc-5862-48df-8160-e534a0766cfa",
   "metadata": {},
   "outputs": [],
   "source": [
    "import pickle\n",
    "\n",
    "with open(src_meg, 'rb') as f:\n",
    "    src = pickle.load(f)\n",
    "    \n",
    "mne_coords = np.concatenate([s['rr'][s['inuse'].astype(bool)] for s in src])"
   ]
  },
  {
   "cell_type": "code",
   "execution_count": 753,
   "id": "236c25c2-b852-4fb4-a18e-f9684a0f04ef",
   "metadata": {},
   "outputs": [],
   "source": [
    "#vol_mne = mne_coords[VOL_SOURCES::]"
   ]
  },
  {
   "cell_type": "code",
   "execution_count": 754,
   "id": "819372f1-a095-48da-9177-7a7e4c5ec24c",
   "metadata": {},
   "outputs": [],
   "source": [
    "identity_trans = mne.transforms.Transform('head', 'mri')  # head → mri\n",
    "identity_trans['trans'] = np.eye(4)"
   ]
  },
  {
   "cell_type": "code",
   "execution_count": 755,
   "id": "561909f9-44fd-480a-8d1f-85f02cb2bf8d",
   "metadata": {},
   "outputs": [],
   "source": [
    "mni_coords = mne.head_to_mni(mne_coords, MEG_CASE, trans_meg, subjects_dir=subjects_dir_meg )"
   ]
  },
  {
   "cell_type": "code",
   "execution_count": 756,
   "id": "6dadfd59-43c3-4382-b728-93a4928d2254",
   "metadata": {},
   "outputs": [],
   "source": [
    "#mni_vol = mne.head_to_mri(vol_mne, MEG_CASE, trans_meg, subjects_dir=subjects_dir_meg)"
   ]
  },
  {
   "cell_type": "code",
   "execution_count": 757,
   "id": "a8291cde-bba9-43ef-817c-ac1158cd7adf",
   "metadata": {},
   "outputs": [],
   "source": [
    "activity = np.loadtxt(iz_meg_file)\n",
    "data = activity[:, np.newaxis]"
   ]
  },
  {
   "cell_type": "code",
   "execution_count": 758,
   "id": "faf8ead9-bee0-4b13-a225-019861944b10",
   "metadata": {},
   "outputs": [],
   "source": [
    "vol_activity = activity[VOL_SOURCES::]"
   ]
  },
  {
   "cell_type": "code",
   "execution_count": 759,
   "id": "ea4bb67c-32c7-4799-84c0-1d5f7581ef52",
   "metadata": {},
   "outputs": [],
   "source": [
    "src_coords = []\n",
    "\n",
    "for source, rate in zip(mni_coords/1000, activity):\n",
    "    src_id = find_closest(source, tree)\n",
    "    src_coord = all_rr[src_id]\n",
    "    if rate == 1 and src_id.tolist()[0] not in src_coords:\n",
    "        src_coords.append(src_id.tolist()[0])\n",
    "correct_vertices = np.array([vol_src[0]['vertno'][x] for x in sorted(src_coords)])\n",
    "vertices = [correct_vertices]  # Используем уникальные отсортированные индексы"
   ]
  },
  {
   "cell_type": "code",
   "execution_count": 760,
   "id": "354e488b-ec97-4d3f-b892-ec59fc30e4f1",
   "metadata": {},
   "outputs": [],
   "source": [
    "data = np.ones((vertices[0].shape[0],1))"
   ]
  },
  {
   "cell_type": "code",
   "execution_count": 761,
   "id": "0c499b75-b46a-4ec8-bd8c-9bb31663a6a8",
   "metadata": {},
   "outputs": [],
   "source": [
    "iz_meg = vertices[0].tolist()"
   ]
  },
  {
   "cell_type": "code",
   "execution_count": 762,
   "id": "0a9eb7a3-b677-40dc-aeb2-7dbf89f3f66d",
   "metadata": {},
   "outputs": [],
   "source": [
    "all_vertices = vol_src[0]['vertno']\n",
    "all_values_meg = []\n",
    "for vert in all_vertices:\n",
    "    if vert in correct_vertices.tolist():\n",
    "        all_values_meg.append(3)\n",
    "    else:\n",
    "        all_values_meg.append(0)\n",
    "full_data_meg = np.array(all_values_meg)[:, np.newaxis]\n",
    "full_verts_meg = [all_vertices]\n",
    "\n",
    "full_stc_meg = mne.VolSourceEstimate(\n",
    "    data=full_data_meg,\n",
    "    vertices=full_verts_meg,\n",
    "    tmin=0,\n",
    "    tstep=1,\n",
    "    subject=\"fsaverage\"\n",
    ")"
   ]
  },
  {
   "cell_type": "code",
   "execution_count": null,
   "id": "f8aca1a4-780e-4bf2-84dc-1182dad74e32",
   "metadata": {},
   "outputs": [],
   "source": []
  },
  {
   "cell_type": "code",
   "execution_count": 763,
   "id": "ebb7ea69-d501-45f6-85c0-98423e28acad",
   "metadata": {
    "scrolled": true
   },
   "outputs": [
    {
     "name": "stdout",
     "output_type": "stream",
     "text": [
      "Reading atlas C:\\Users\\CCDM\\mne_data\\MNE-sample-data\\subjects\\fsaverage\\mri\\aparc+aseg.mgz\n",
      "114/114 atlas regions had at least one vertex in the source space\n",
      "Extracting time courses for 114 labels (mode: max)\n",
      "17\n",
      "Active volume regions:\n",
      "Left-Inf-Lat-Vent\n",
      "Left-Pallidum\n",
      "Left-Hippocampus\n",
      "Left-Amygdala\n",
      "Left-VentralDC\n",
      "Right-Inf-Lat-Vent\n",
      "Right-Hippocampus\n",
      "Right-Amygdala\n",
      "Right-VentralDC\n",
      "ctx-lh-entorhinal\n",
      "ctx-lh-middletemporal\n",
      "ctx-lh-parahippocampal\n",
      "ctx-lh-parsopercularis\n",
      "ctx-lh-parstriangularis\n",
      "ctx-lh-precentral\n",
      "ctx-lh-rostralmiddlefrontal\n",
      "ctx-lh-superiortemporal\n"
     ]
    }
   ],
   "source": [
    "meg_to_label = mne.extract_label_time_course(\n",
    "    full_stc_meg,\n",
    "    (aseg_file, label_names),  \n",
    "    vol_src,\n",
    "    mode='max', \n",
    "    mri_resolution=True, \n",
    "    allow_empty=True \n",
    ")\n",
    "\n",
    "peak_time_idx = np.argmax(np.max(meg_to_label, axis=0))\n",
    "peak_activations = meg_to_label[:, peak_time_idx]\n",
    "\n",
    "active_label_indices = np.where(peak_activations > 0)[0]\n",
    "active_regions_meg = [label_names[i] for i in active_label_indices]\n",
    "\n",
    "regions_meg = []\n",
    "for region in active_regions_meg:\n",
    "    if ('Unknown' not in region) and ('unknown' not in region) and region != 'Left-Cerebral-White-Matter' and region != 'Right-Cerebral-White-Matter':\n",
    "        regions_meg.append(region)\n",
    "\n",
    "print(len(regions_meg))\n",
    "print(\"Active volume regions:\")\n",
    "for region in regions_meg:\n",
    "    print(region)"
   ]
  },
  {
   "cell_type": "code",
   "execution_count": null,
   "id": "278f585b-8bc4-453c-9dd3-ab89a205bcc3",
   "metadata": {},
   "outputs": [],
   "source": []
  },
  {
   "cell_type": "code",
   "execution_count": 764,
   "id": "664daf12-5e9d-4dad-8330-efe1aed040ac",
   "metadata": {},
   "outputs": [
    {
     "name": "stdout",
     "output_type": "stream",
     "text": [
      "    Smoothing by a factor of 0.9\n"
     ]
    }
   ],
   "source": [
    "brain = mne.viz.Brain(\n",
    "    \"fsaverage\",\n",
    "    alpha=0.1,\n",
    "    cortex=\"low_contrast\",\n",
    "    subjects_dir=subjects_dir\n",
    ")\n",
    "brain.add_volume_labels(aseg=\"aparc+aseg\", labels=regions_meg)"
   ]
  },
  {
   "cell_type": "code",
   "execution_count": 765,
   "id": "9f8bef67-aaa9-4698-aa81-82262fda16ba",
   "metadata": {},
   "outputs": [],
   "source": [
    "iz_stc = mne.VolSourceEstimate(\n",
    "    data=data,\n",
    "    vertices=vertices,\n",
    "    tmin=0,\n",
    "    tstep=1,\n",
    "    subject=\"fsaverage\"\n",
    ")"
   ]
  },
  {
   "cell_type": "code",
   "execution_count": 766,
   "id": "53b14b07-893b-42c4-9b7c-3b8a1bf36cc1",
   "metadata": {},
   "outputs": [
    {
     "data": {
      "text/plain": [
       "<VolSourceEstimate | 152 vertices, subject : fsaverage, tmin : 0.0 (ms), tmax : 0.0 (ms), tstep : 1000.0 (ms), data shape : (152, 1), ~3 kB>"
      ]
     },
     "execution_count": 766,
     "metadata": {},
     "output_type": "execute_result"
    }
   ],
   "source": [
    "iz_stc"
   ]
  },
  {
   "cell_type": "code",
   "execution_count": null,
   "id": "8da1d9e9-1bc7-46b3-bc56-4d4121fcfdd0",
   "metadata": {},
   "outputs": [],
   "source": [
    "\n",
    "clim = dict(kind=\"value\", lims=[0.5, 0.7, 0.95])\n",
    "\n",
    "brain = iz_stc.plot_3d(\n",
    "    src=vol_src,\n",
    "    subjects_dir=subjects_dir,\n",
    "    view_layout=\"horizontal\",\n",
    "    views=[\"axial\", \"coronal\", \"sagittal\"],\n",
    "    size=(800, 300),\n",
    "    show_traces=0.4,\n",
    "    clim=clim,\n",
    "    add_data_kwargs=dict(colorbar_kwargs=dict(label_font_size=8)),\n",
    ")\n"
   ]
  },
  {
   "cell_type": "code",
   "execution_count": null,
   "id": "62b4da4d-2b76-44fa-a232-0e0625571aa0",
   "metadata": {},
   "outputs": [],
   "source": []
  },
  {
   "cell_type": "markdown",
   "id": "2f7e27c8-1e7c-491e-a474-7d91e6ddf418",
   "metadata": {},
   "source": [
    "## Metrics"
   ]
  },
  {
   "cell_type": "code",
   "execution_count": 767,
   "id": "517c2031-b22f-4f8a-acbb-a13c10e29e15",
   "metadata": {},
   "outputs": [],
   "source": [
    "interc = []"
   ]
  },
  {
   "cell_type": "code",
   "execution_count": 768,
   "id": "ce5b00d6-71f2-4a87-b5c7-75099598c43a",
   "metadata": {},
   "outputs": [],
   "source": [
    "for region in regions_seeg:\n",
    "    if region in regions_meg:\n",
    "        interc.append(region)\n",
    "\n",
    "for region in regions_meg:\n",
    "    if region in regions_seeg and region not in interc:\n",
    "        interc.append(region)"
   ]
  },
  {
   "cell_type": "code",
   "execution_count": 769,
   "id": "d1dace81-0eec-4b48-9f8b-9ec2eb74fe1d",
   "metadata": {},
   "outputs": [
    {
     "name": "stdout",
     "output_type": "stream",
     "text": [
      "Left-Inf-Lat-Vent\n",
      "Left-Hippocampus\n",
      "Left-Amygdala\n",
      "ctx-lh-entorhinal\n",
      "ctx-lh-middletemporal\n",
      "ctx-lh-parahippocampal\n",
      "ctx-lh-superiortemporal\n"
     ]
    }
   ],
   "source": [
    "for region in interc:\n",
    "    print(region)"
   ]
  },
  {
   "cell_type": "code",
   "execution_count": 770,
   "id": "f5b8a1a7-4863-4b00-9189-889ab9b489ad",
   "metadata": {},
   "outputs": [],
   "source": [
    "union = set(regions_meg + regions_seeg)"
   ]
  },
  {
   "cell_type": "code",
   "execution_count": 771,
   "id": "58a96e53-6ce8-4c6a-bf8c-a7e4e35f02f6",
   "metadata": {},
   "outputs": [
    {
     "data": {
      "text/plain": [
       "7"
      ]
     },
     "execution_count": 771,
     "metadata": {},
     "output_type": "execute_result"
    }
   ],
   "source": [
    "len(interc)"
   ]
  },
  {
   "cell_type": "code",
   "execution_count": 772,
   "id": "cd4e742e-763e-4c3a-a44a-c0279524543f",
   "metadata": {},
   "outputs": [
    {
     "data": {
      "text/plain": [
       "24"
      ]
     },
     "execution_count": 772,
     "metadata": {},
     "output_type": "execute_result"
    }
   ],
   "source": [
    "len(union)"
   ]
  },
  {
   "cell_type": "code",
   "execution_count": 773,
   "id": "5fc642bd-bb9d-4c59-b706-06ef2c6eac7e",
   "metadata": {},
   "outputs": [
    {
     "data": {
      "text/plain": [
       "0.2916666666666667"
      ]
     },
     "execution_count": 773,
     "metadata": {},
     "output_type": "execute_result"
    }
   ],
   "source": [
    "len(interc)/len(union)"
   ]
  },
  {
   "cell_type": "code",
   "execution_count": 774,
   "id": "cddc41f4-373f-45cc-9b40-812e4dff1709",
   "metadata": {},
   "outputs": [],
   "source": [
    "diff = set(regions_meg).difference(interc)"
   ]
  },
  {
   "cell_type": "code",
   "execution_count": 775,
   "id": "7ee543e4-d639-4d2f-8d7e-da0f2801cad4",
   "metadata": {},
   "outputs": [
    {
     "data": {
      "text/plain": [
       "10"
      ]
     },
     "execution_count": 775,
     "metadata": {},
     "output_type": "execute_result"
    }
   ],
   "source": [
    "len(diff)"
   ]
  },
  {
   "cell_type": "code",
   "execution_count": 776,
   "id": "6412edee-a944-46da-8d6d-f7c835b1b154",
   "metadata": {},
   "outputs": [
    {
     "name": "stdout",
     "output_type": "stream",
     "text": [
      "Left-Pallidum\n",
      "Left-VentralDC\n",
      "Right-Amygdala\n",
      "Right-Hippocampus\n",
      "Right-Inf-Lat-Vent\n",
      "Right-VentralDC\n",
      "ctx-lh-parsopercularis\n",
      "ctx-lh-parstriangularis\n",
      "ctx-lh-precentral\n",
      "ctx-lh-rostralmiddlefrontal\n"
     ]
    }
   ],
   "source": [
    "for elem in sorted(diff):\n",
    "    print(elem)"
   ]
  },
  {
   "cell_type": "code",
   "execution_count": 709,
   "id": "27ec951a-7833-47a9-a48c-a2d5762f64da",
   "metadata": {},
   "outputs": [],
   "source": [
    "for vert in iz_seeg:\n",
    "    if vert in iz_meg:\n",
    "        interc.append(vert)\n",
    "\n",
    "for vert in iz_meg:\n",
    "    if vert in iz_seeg and vert not in interc:\n",
    "        interc.append(vert)"
   ]
  },
  {
   "cell_type": "code",
   "execution_count": 144,
   "id": "fd6e16a0-0ad1-4c67-ae11-0d34750f8d99",
   "metadata": {},
   "outputs": [],
   "source": [
    "union = set(iz_seeg + iz_meg)"
   ]
  },
  {
   "cell_type": "code",
   "execution_count": 145,
   "id": "cbc56627-4ebe-4516-8b2b-f4db82a16310",
   "metadata": {},
   "outputs": [
    {
     "data": {
      "text/plain": [
       "197"
      ]
     },
     "execution_count": 145,
     "metadata": {},
     "output_type": "execute_result"
    }
   ],
   "source": [
    "len(union)"
   ]
  },
  {
   "cell_type": "code",
   "execution_count": 146,
   "id": "12d371b9-1a7c-4545-9b71-5ce81d3cd3c0",
   "metadata": {},
   "outputs": [],
   "source": [
    "sim = len(interc) / len(union)"
   ]
  },
  {
   "cell_type": "code",
   "execution_count": 147,
   "id": "5289ec6e-29b6-4905-96c0-2c27c93847df",
   "metadata": {},
   "outputs": [
    {
     "data": {
      "text/plain": [
       "0.0"
      ]
     },
     "execution_count": 147,
     "metadata": {},
     "output_type": "execute_result"
    }
   ],
   "source": [
    "sim"
   ]
  },
  {
   "cell_type": "code",
   "execution_count": 148,
   "id": "094118ed-442c-43c0-b05b-3b493ff8e0da",
   "metadata": {},
   "outputs": [
    {
     "data": {
      "text/plain": [
       "0.0"
      ]
     },
     "execution_count": 148,
     "metadata": {},
     "output_type": "execute_result"
    }
   ],
   "source": [
    "len(interc) / len(iz_seeg)"
   ]
  },
  {
   "cell_type": "code",
   "execution_count": 149,
   "id": "88bab75d-b614-46b3-a2b1-e83761b79be0",
   "metadata": {},
   "outputs": [
    {
     "data": {
      "text/plain": [
       "17"
      ]
     },
     "execution_count": 149,
     "metadata": {},
     "output_type": "execute_result"
    }
   ],
   "source": [
    "len(iz_seeg)"
   ]
  },
  {
   "cell_type": "code",
   "execution_count": 150,
   "id": "f4d94c88-702c-43a0-8051-ab30aa8d0bd3",
   "metadata": {},
   "outputs": [
    {
     "data": {
      "text/plain": [
       "[11127,\n",
       " 12282,\n",
       " 12317,\n",
       " 13541,\n",
       " 13542,\n",
       " 13606,\n",
       " 13608,\n",
       " 13610,\n",
       " 14723,\n",
       " 14838,\n",
       " 14872,\n",
       " 16161,\n",
       " 21061,\n",
       " 26809,\n",
       " 27396,\n",
       " 28750,\n",
       " 30535]"
      ]
     },
     "execution_count": 150,
     "metadata": {},
     "output_type": "execute_result"
    }
   ],
   "source": [
    "iz_seeg"
   ]
  },
  {
   "cell_type": "code",
   "execution_count": null,
   "id": "501d4045-0235-41e8-bf5e-f27d16334289",
   "metadata": {},
   "outputs": [],
   "source": []
  },
  {
   "cell_type": "code",
   "execution_count": null,
   "id": "a1179335-63aa-43c8-9bf4-1a3d11bd7dad",
   "metadata": {},
   "outputs": [],
   "source": []
  },
  {
   "cell_type": "code",
   "execution_count": null,
   "id": "203e0832-8c5f-4065-aed4-4828c83474b4",
   "metadata": {},
   "outputs": [],
   "source": []
  }
 ],
 "metadata": {
  "kernelspec": {
   "display_name": "Python 3 (ipykernel)",
   "language": "python",
   "name": "python3"
  },
  "language_info": {
   "codemirror_mode": {
    "name": "ipython",
    "version": 3
   },
   "file_extension": ".py",
   "mimetype": "text/x-python",
   "name": "python",
   "nbconvert_exporter": "python",
   "pygments_lexer": "ipython3",
   "version": "3.12.6"
  }
 },
 "nbformat": 4,
 "nbformat_minor": 5
}
